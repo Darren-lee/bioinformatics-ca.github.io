{
 "cells": [
  {
   "cell_type": "markdown",
   "metadata": {},
   "source": [
    "## R review code\n",
    "Modified by Sorana Morrissy (2015), Florence Cavalli (2013, 2014), and initially written by Richard De Borja and Cindy Yao (2012)"
   ]
  },
  {
   "cell_type": "markdown",
   "metadata": {},
   "source": [
    "### Slide 7"
   ]
  },
  {
   "cell_type": "code",
   "execution_count": 1,
   "metadata": {
    "collapsed": true
   },
   "outputs": [
    {
     "data": {
      "text/html": [
       "7"
      ],
      "text/latex": [
       "7"
      ],
      "text/markdown": [
       "7"
      ],
      "text/plain": [
       "[1] 7"
      ]
     },
     "execution_count": 1,
     "metadata": {},
     "output_type": "execute_result"
    },
    {
     "data": {
      "text/html": [
       "3"
      ],
      "text/latex": [
       "3"
      ],
      "text/markdown": [
       "3"
      ],
      "text/plain": [
       "[1] 3"
      ]
     },
     "execution_count": 1,
     "metadata": {},
     "output_type": "execute_result"
    },
    {
     "data": {
      "text/html": [
       "15"
      ],
      "text/latex": [
       "15"
      ],
      "text/markdown": [
       "15"
      ],
      "text/plain": [
       "[1] 15"
      ]
     },
     "execution_count": 1,
     "metadata": {},
     "output_type": "execute_result"
    },
    {
     "data": {
      "text/html": [
       "1.30102999566398"
      ],
      "text/latex": [
       "1.30102999566398"
      ],
      "text/markdown": [
       "1.30102999566398"
      ],
      "text/plain": [
       "[1] 1.30103"
      ]
     },
     "execution_count": 1,
     "metadata": {},
     "output_type": "execute_result"
    },
    {
     "data": {
      "text/html": [
       "3.14159265358979"
      ],
      "text/latex": [
       "3.14159265358979"
      ],
      "text/markdown": [
       "3.14159265358979"
      ],
      "text/plain": [
       "[1] 3.141593"
      ]
     },
     "execution_count": 1,
     "metadata": {},
     "output_type": "execute_result"
    },
    {
     "data": {
      "text/html": [
       "0.135335283236613"
      ],
      "text/latex": [
       "0.135335283236613"
      ],
      "text/markdown": [
       "0.135335283236613"
      ],
      "text/plain": [
       "[1] 0.1353353"
      ]
     },
     "execution_count": 1,
     "metadata": {},
     "output_type": "execute_result"
    },
    {
     "data": {
      "text/html": [
       "0.389418342308651"
      ],
      "text/latex": [
       "0.389418342308651"
      ],
      "text/markdown": [
       "0.389418342308651"
      ],
      "text/plain": [
       "[1] 0.3894183"
      ]
     },
     "execution_count": 1,
     "metadata": {},
     "output_type": "execute_result"
    }
   ],
   "source": [
    "2+5\n",
    "30/10\n",
    "20-5\n",
    "log10(20)\n",
    "pi\n",
    "exp(-2)\n",
    "sin(0.4)"
   ]
  },
  {
   "cell_type": "markdown",
   "metadata": {},
   "source": [
    "### Slide 8"
   ]
  },
  {
   "cell_type": "code",
   "execution_count": 2,
   "metadata": {
    "collapsed": true
   },
   "outputs": [
    {
     "data": {
      "text/html": [
       "10"
      ],
      "text/latex": [
       "10"
      ],
      "text/markdown": [
       "10"
      ],
      "text/plain": [
       "[1] 10"
      ]
     },
     "execution_count": 2,
     "metadata": {},
     "output_type": "execute_result"
    },
    {
     "data": {
      "text/html": [
       "30"
      ],
      "text/latex": [
       "30"
      ],
      "text/markdown": [
       "30"
      ],
      "text/plain": [
       "[1] 30"
      ]
     },
     "execution_count": 2,
     "metadata": {},
     "output_type": "execute_result"
    },
    {
     "data": {
      "text/html": [
       "40"
      ],
      "text/latex": [
       "40"
      ],
      "text/markdown": [
       "40"
      ],
      "text/plain": [
       "[1] 40"
      ]
     },
     "execution_count": 2,
     "metadata": {},
     "output_type": "execute_result"
    }
   ],
   "source": [
    "weight.a <- 10\n",
    "weight.a\n",
    "weight.b <- 30\n",
    "weight.b\n",
    "total.weight <- weight.a + weight.b\n",
    "total.weight"
   ]
  },
  {
   "cell_type": "markdown",
   "metadata": {},
   "source": [
    "### Slide 10"
   ]
  },
  {
   "cell_type": "code",
   "execution_count": 4,
   "metadata": {
    "collapsed": true
   },
   "outputs": [
    {
     "data": {
      "text/html": [
       "'/Users/ameyer/Documents/CBW/CBW_Resources'"
      ],
      "text/latex": [
       "'/Users/ameyer/Documents/CBW/CBW_Resources'"
      ],
      "text/markdown": [
       "'/Users/ameyer/Documents/CBW/CBW_Resources'"
      ],
      "text/plain": [
       "[1] \"/Users/ameyer/Documents/CBW/CBW_Resources\""
      ]
     },
     "execution_count": 4,
     "metadata": {},
     "output_type": "execute_result"
    },
    {
     "data": {
      "text/html": [
       "'Untitled.ipynb'"
      ],
      "text/latex": [
       "'Untitled.ipynb'"
      ],
      "text/markdown": [
       "'Untitled.ipynb'"
      ],
      "text/plain": [
       "[1] \"Untitled.ipynb\""
      ]
     },
     "execution_count": 4,
     "metadata": {},
     "output_type": "execute_result"
    },
    {
     "data": {
      "text/html": [
       "<ol class=list-inline>\n",
       "\t<li>'total.weight'</li>\n",
       "\t<li>'weight.a'</li>\n",
       "\t<li>'weight.b'</li>\n",
       "</ol>\n"
      ],
      "text/latex": [
       "\\begin{enumerate*}\n",
       "\\item 'total.weight'\n",
       "\\item 'weight.a'\n",
       "\\item 'weight.b'\n",
       "\\end{enumerate*}\n"
      ],
      "text/markdown": [
       "1. 'total.weight'\n",
       "2. 'weight.a'\n",
       "3. 'weight.b'\n",
       "\n",
       "\n"
      ],
      "text/plain": [
       "[1] \"total.weight\" \"weight.a\"     \"weight.b\"    "
      ]
     },
     "execution_count": 4,
     "metadata": {},
     "output_type": "execute_result"
    }
   ],
   "source": [
    "# get the current working directory:\n",
    "getwd()\n",
    "# set a new working directory:\n",
    "setwd(\"C:/myPATH\")\n",
    "setwd(\"~/myPATH\") # on Mac\n",
    "setwd(\"/Users/florence/myPATH\") # on Mac\n",
    "# list the files in the current working directory:\n",
    "list.files()\n",
    "# list objects in the current R session:\n",
    "ls()"
   ]
  },
  {
   "cell_type": "markdown",
   "metadata": {},
   "source": [
    "### Slide 11"
   ]
  },
  {
   "cell_type": "code",
   "execution_count": null,
   "metadata": {
    "collapsed": true
   },
   "outputs": [],
   "source": [
    "help(sum)\n",
    "# q to quit the help page\n",
    "?sum\n",
    "\n",
    "help.search(\"plot\")\n",
    "??plot"
   ]
  },
  {
   "cell_type": "markdown",
   "metadata": {},
   "source": [
    "### Slide 16"
   ]
  },
  {
   "cell_type": "code",
   "execution_count": 5,
   "metadata": {
    "collapsed": true
   },
   "outputs": [
    {
     "data": {
      "text/html": [
       "<ol class=list-inline>\n",
       "\t<li>1</li>\n",
       "\t<li>2</li>\n",
       "\t<li>3</li>\n",
       "\t<li>4</li>\n",
       "\t<li>5</li>\n",
       "\t<li>6</li>\n",
       "\t<li>2</li>\n",
       "\t<li>1</li>\n",
       "</ol>\n"
      ],
      "text/latex": [
       "\\begin{enumerate*}\n",
       "\\item 1\n",
       "\\item 2\n",
       "\\item 3\n",
       "\\item 4\n",
       "\\item 5\n",
       "\\item 6\n",
       "\\item 2\n",
       "\\item 1\n",
       "\\end{enumerate*}\n"
      ],
      "text/markdown": [
       "1. 1\n",
       "2. 2\n",
       "3. 3\n",
       "4. 4\n",
       "5. 5\n",
       "6. 6\n",
       "7. 2\n",
       "8. 1\n",
       "\n",
       "\n"
      ],
      "text/plain": [
       "[1] 1 2 3 4 5 6 2 1"
      ]
     },
     "execution_count": 5,
     "metadata": {},
     "output_type": "execute_result"
    },
    {
     "data": {
      "text/html": [
       "<ol class=list-inline>\n",
       "\t<li>'Fred'</li>\n",
       "\t<li>'Barney'</li>\n",
       "\t<li>'Wilma'</li>\n",
       "\t<li>'Betty'</li>\n",
       "</ol>\n"
      ],
      "text/latex": [
       "\\begin{enumerate*}\n",
       "\\item 'Fred'\n",
       "\\item 'Barney'\n",
       "\\item 'Wilma'\n",
       "\\item 'Betty'\n",
       "\\end{enumerate*}\n"
      ],
      "text/markdown": [
       "1. 'Fred'\n",
       "2. 'Barney'\n",
       "3. 'Wilma'\n",
       "4. 'Betty'\n",
       "\n",
       "\n"
      ],
      "text/plain": [
       "[1] \"Fred\"   \"Barney\" \"Wilma\"  \"Betty\" "
      ]
     },
     "execution_count": 5,
     "metadata": {},
     "output_type": "execute_result"
    },
    {
     "data": {
      "text/html": [
       "<ol class=list-inline>\n",
       "\t<li>TRUE</li>\n",
       "\t<li>TRUE</li>\n",
       "\t<li>FALSE</li>\n",
       "\t<li>TRUE</li>\n",
       "</ol>\n"
      ],
      "text/latex": [
       "\\begin{enumerate*}\n",
       "\\item TRUE\n",
       "\\item TRUE\n",
       "\\item FALSE\n",
       "\\item TRUE\n",
       "\\end{enumerate*}\n"
      ],
      "text/markdown": [
       "1. TRUE\n",
       "2. TRUE\n",
       "3. FALSE\n",
       "4. TRUE\n",
       "\n",
       "\n"
      ],
      "text/plain": [
       "[1]  TRUE  TRUE FALSE  TRUE"
      ]
     },
     "execution_count": 5,
     "metadata": {},
     "output_type": "execute_result"
    },
    {
     "name": "stdout",
     "output_type": "stream",
     "text": [
      " logi [1:4] TRUE TRUE FALSE TRUE\n"
     ]
    }
   ],
   "source": [
    "## vectors\n",
    "numeric.vector <- c(1,2,3,4,5,6,2,1)\n",
    "numeric.vector\n",
    "\n",
    "character.vector <- c(\"Fred\", \"Barney\", \"Wilma\", \"Betty\")\n",
    "character.vector\n",
    "\n",
    "logical.vector <- c(TRUE, TRUE, FALSE, TRUE)\n",
    "logical.vector\n",
    "str(logical.vector)"
   ]
  },
  {
   "cell_type": "markdown",
   "metadata": {},
   "source": [
    "### Slide 17"
   ]
  },
  {
   "cell_type": "code",
   "execution_count": 6,
   "metadata": {
    "collapsed": true
   },
   "outputs": [
    {
     "data": {
      "text/html": [
       "<ol class=list-inline>\n",
       "\t<li>'Fred'</li>\n",
       "\t<li>'Barney'</li>\n",
       "\t<li>'Wilma'</li>\n",
       "\t<li>'Betty'</li>\n",
       "</ol>\n"
      ],
      "text/latex": [
       "\\begin{enumerate*}\n",
       "\\item 'Fred'\n",
       "\\item 'Barney'\n",
       "\\item 'Wilma'\n",
       "\\item 'Betty'\n",
       "\\end{enumerate*}\n"
      ],
      "text/markdown": [
       "1. 'Fred'\n",
       "2. 'Barney'\n",
       "3. 'Wilma'\n",
       "4. 'Betty'\n",
       "\n",
       "\n"
      ],
      "text/plain": [
       "[1] \"Fred\"   \"Barney\" \"Wilma\"  \"Betty\" "
      ]
     },
     "execution_count": 6,
     "metadata": {},
     "output_type": "execute_result"
    },
    {
     "data": {
      "text/html": [
       "'Barney'"
      ],
      "text/latex": [
       "'Barney'"
      ],
      "text/markdown": [
       "'Barney'"
      ],
      "text/plain": [
       "[1] \"Barney\""
      ]
     },
     "execution_count": 6,
     "metadata": {},
     "output_type": "execute_result"
    },
    {
     "data": {
      "text/html": [
       "<ol class=list-inline>\n",
       "\t<li>'Barney'</li>\n",
       "\t<li>'Wilma'</li>\n",
       "</ol>\n"
      ],
      "text/latex": [
       "\\begin{enumerate*}\n",
       "\\item 'Barney'\n",
       "\\item 'Wilma'\n",
       "\\end{enumerate*}\n"
      ],
      "text/markdown": [
       "1. 'Barney'\n",
       "2. 'Wilma'\n",
       "\n",
       "\n"
      ],
      "text/plain": [
       "[1] \"Barney\" \"Wilma\" "
      ]
     },
     "execution_count": 6,
     "metadata": {},
     "output_type": "execute_result"
    },
    {
     "data": {
      "text/html": [
       "<ol class=list-inline>\n",
       "\t<li>'Barney'</li>\n",
       "\t<li>'Betty'</li>\n",
       "</ol>\n"
      ],
      "text/latex": [
       "\\begin{enumerate*}\n",
       "\\item 'Barney'\n",
       "\\item 'Betty'\n",
       "\\end{enumerate*}\n"
      ],
      "text/markdown": [
       "1. 'Barney'\n",
       "2. 'Betty'\n",
       "\n",
       "\n"
      ],
      "text/plain": [
       "[1] \"Barney\" \"Betty\" "
      ]
     },
     "execution_count": 6,
     "metadata": {},
     "output_type": "execute_result"
    }
   ],
   "source": [
    "character.vector\n",
    "character.vector[2]\n",
    "character.vector[2:3]\n",
    "character.vector[c(2,4)]"
   ]
  },
  {
   "cell_type": "markdown",
   "metadata": {},
   "source": [
    "### Slide 18"
   ]
  },
  {
   "cell_type": "code",
   "execution_count": 7,
   "metadata": {
    "collapsed": true
   },
   "outputs": [
    {
     "data": {
      "text/html": [
       "<ol class=list-inline>\n",
       "\t<li>1</li>\n",
       "\t<li>2</li>\n",
       "\t<li>1</li>\n",
       "\t<li>1</li>\n",
       "\t<li>1</li>\n",
       "\t<li>2</li>\n",
       "</ol>\n"
      ],
      "text/latex": [
       "\\begin{enumerate*}\n",
       "\\item 1\n",
       "\\item 2\n",
       "\\item 1\n",
       "\\item 1\n",
       "\\item 1\n",
       "\\item 2\n",
       "\\end{enumerate*}\n"
      ],
      "text/markdown": [
       "1. 1\n",
       "2. 2\n",
       "3. 1\n",
       "4. 1\n",
       "5. 1\n",
       "6. 2\n",
       "\n",
       "\n"
      ],
      "text/plain": [
       "[1] 1 2 1 1 1 2"
      ]
     },
     "execution_count": 7,
     "metadata": {},
     "output_type": "execute_result"
    },
    {
     "data": {
      "text/html": [
       "<ol class=list-inline>\n",
       "\t<li>1</li>\n",
       "\t<li>2</li>\n",
       "\t<li>1</li>\n",
       "\t<li>1</li>\n",
       "\t<li>1</li>\n",
       "\t<li>2</li>\n",
       "</ol>\n"
      ],
      "text/latex": [
       "\\begin{enumerate*}\n",
       "\\item 1\n",
       "\\item 2\n",
       "\\item 1\n",
       "\\item 1\n",
       "\\item 1\n",
       "\\item 2\n",
       "\\end{enumerate*}\n"
      ],
      "text/markdown": [
       "1. 1\n",
       "2. 2\n",
       "3. 1\n",
       "4. 1\n",
       "5. 1\n",
       "6. 2\n",
       "\n",
       "\n"
      ],
      "text/plain": [
       "[1] 1 2 1 1 1 2\n",
       "Levels: 1 2"
      ]
     },
     "execution_count": 7,
     "metadata": {},
     "output_type": "execute_result"
    },
    {
     "data": {
      "text/html": [
       "<ol class=list-inline>\n",
       "\t<li>male</li>\n",
       "\t<li>female</li>\n",
       "\t<li>male</li>\n",
       "\t<li>male</li>\n",
       "\t<li>male</li>\n",
       "\t<li>female</li>\n",
       "</ol>\n"
      ],
      "text/latex": [
       "\\begin{enumerate*}\n",
       "\\item male\n",
       "\\item female\n",
       "\\item male\n",
       "\\item male\n",
       "\\item male\n",
       "\\item female\n",
       "\\end{enumerate*}\n"
      ],
      "text/markdown": [
       "1. male\n",
       "2. female\n",
       "3. male\n",
       "4. male\n",
       "5. male\n",
       "6. female\n",
       "\n",
       "\n"
      ],
      "text/plain": [
       "[1] male   female male   male   male   female\n",
       "Levels: male female"
      ]
     },
     "execution_count": 7,
     "metadata": {},
     "output_type": "execute_result"
    }
   ],
   "source": [
    "gender <- c(1,2,1,1,1,2)\n",
    "gender\n",
    "\n",
    "gender.factor <- as.factor(gender)\n",
    "gender.factor\n",
    "\n",
    "levels(gender.factor) <- c(\"male\", \"female\")\n",
    "gender.factor"
   ]
  },
  {
   "cell_type": "markdown",
   "metadata": {},
   "source": [
    "### Slide 19"
   ]
  },
  {
   "cell_type": "code",
   "execution_count": 8,
   "metadata": {
    "collapsed": true
   },
   "outputs": [
    {
     "data": {
      "text/html": [
       "<ol class=list-inline>\n",
       "\t<li>male</li>\n",
       "\t<li>female</li>\n",
       "\t<li>male</li>\n",
       "\t<li>male</li>\n",
       "\t<li>male</li>\n",
       "\t<li>female</li>\n",
       "</ol>\n"
      ],
      "text/latex": [
       "\\begin{enumerate*}\n",
       "\\item male\n",
       "\\item female\n",
       "\\item male\n",
       "\\item male\n",
       "\\item male\n",
       "\\item female\n",
       "\\end{enumerate*}\n"
      ],
      "text/markdown": [
       "1. male\n",
       "2. female\n",
       "3. male\n",
       "4. male\n",
       "5. male\n",
       "6. female\n",
       "\n",
       "\n"
      ],
      "text/plain": [
       "[1] male   female male   male   male   female\n",
       "Levels: male female"
      ]
     },
     "execution_count": 8,
     "metadata": {},
     "output_type": "execute_result"
    },
    {
     "data": {
      "text/html": [
       "female"
      ],
      "text/latex": [
       "female"
      ],
      "text/markdown": [
       "female"
      ],
      "text/plain": [
       "[1] female\n",
       "Levels: male female"
      ]
     },
     "execution_count": 8,
     "metadata": {},
     "output_type": "execute_result"
    },
    {
     "data": {
      "text/html": [
       "<ol class=list-inline>\n",
       "\t<li>female</li>\n",
       "\t<li>male</li>\n",
       "\t<li>male</li>\n",
       "</ol>\n"
      ],
      "text/latex": [
       "\\begin{enumerate*}\n",
       "\\item female\n",
       "\\item male\n",
       "\\item male\n",
       "\\end{enumerate*}\n"
      ],
      "text/markdown": [
       "1. female\n",
       "2. male\n",
       "3. male\n",
       "\n",
       "\n"
      ],
      "text/plain": [
       "[1] female male   male  \n",
       "Levels: male female"
      ]
     },
     "execution_count": 8,
     "metadata": {},
     "output_type": "execute_result"
    },
    {
     "data": {
      "text/html": [
       "<ol class=list-inline>\n",
       "\t<li>male</li>\n",
       "\t<li>male</li>\n",
       "</ol>\n"
      ],
      "text/latex": [
       "\\begin{enumerate*}\n",
       "\\item male\n",
       "\\item male\n",
       "\\end{enumerate*}\n"
      ],
      "text/markdown": [
       "1. male\n",
       "2. male\n",
       "\n",
       "\n"
      ],
      "text/plain": [
       "[1] male male\n",
       "Levels: male female"
      ]
     },
     "execution_count": 8,
     "metadata": {},
     "output_type": "execute_result"
    }
   ],
   "source": [
    "gender.factor\n",
    "gender.factor[2]\n",
    "gender.factor[2:4]\n",
    "gender.factor[c(1,4)]"
   ]
  },
  {
   "cell_type": "markdown",
   "metadata": {},
   "source": [
    "### Slide 20"
   ]
  },
  {
   "cell_type": "code",
   "execution_count": 10,
   "metadata": {
    "collapsed": true
   },
   "outputs": [
    {
     "data": {
      "text/html": [
       "<table>\n",
       "<tbody>\n",
       "\t<tr><td> 1</td><td> 4</td><td> 7</td><td>10</td></tr>\n",
       "\t<tr><td> 2</td><td> 5</td><td> 8</td><td>11</td></tr>\n",
       "\t<tr><td> 3</td><td> 6</td><td> 9</td><td>12</td></tr>\n",
       "</tbody>\n",
       "</table>\n"
      ],
      "text/latex": [
       "\\begin{tabular}{llll}\n",
       "\t  1 &  4 &  7 & 10\\\\\n",
       "\t  2 &  5 &  8 & 11\\\\\n",
       "\t  3 &  6 &  9 & 12\\\\\n",
       "\\end{tabular}\n"
      ],
      "text/markdown": [
       "1. 1\n",
       "2. 2\n",
       "3. 3\n",
       "4. 4\n",
       "5. 5\n",
       "6. 6\n",
       "7. 7\n",
       "8. 8\n",
       "9. 9\n",
       "10. 10\n",
       "11. 11\n",
       "12. 12\n",
       "\n",
       "\n"
      ],
      "text/plain": [
       "     [,1] [,2] [,3] [,4]\n",
       "[1,]    1    4    7   10\n",
       "[2,]    2    5    8   11\n",
       "[3,]    3    6    9   12"
      ]
     },
     "execution_count": 10,
     "metadata": {},
     "output_type": "execute_result"
    },
    {
     "data": {
      "text/html": [
       "<table>\n",
       "<tbody>\n",
       "\t<tr><td>1</td><td>2</td><td>3</td><td>4</td></tr>\n",
       "\t<tr><td>5</td><td>6</td><td>7</td><td>8</td></tr>\n",
       "\t<tr><td> 9</td><td>10</td><td>11</td><td>12</td></tr>\n",
       "</tbody>\n",
       "</table>\n"
      ],
      "text/latex": [
       "\\begin{tabular}{llll}\n",
       "\t 1 & 2 & 3 & 4\\\\\n",
       "\t 5 & 6 & 7 & 8\\\\\n",
       "\t  9 & 10 & 11 & 12\\\\\n",
       "\\end{tabular}\n"
      ],
      "text/markdown": [
       "1. 1\n",
       "2. 5\n",
       "3. 9\n",
       "4. 2\n",
       "5. 6\n",
       "6. 10\n",
       "7. 3\n",
       "8. 7\n",
       "9. 11\n",
       "10. 4\n",
       "11. 8\n",
       "12. 12\n",
       "\n",
       "\n"
      ],
      "text/plain": [
       "     [,1] [,2] [,3] [,4]\n",
       "[1,]    1    2    3    4\n",
       "[2,]    5    6    7    8\n",
       "[3,]    9   10   11   12"
      ]
     },
     "execution_count": 10,
     "metadata": {},
     "output_type": "execute_result"
    }
   ],
   "source": [
    "## matrix\n",
    "?matrix\n",
    "matrix.example <- matrix(1:12, nrow = 3, ncol=4, byrow = FALSE)\n",
    "matrix.example\n",
    "\n",
    "matrix.example <- matrix(1:12, nrow = 3, ncol=4, byrow = TRUE)\n",
    "matrix.example"
   ]
  },
  {
   "cell_type": "markdown",
   "metadata": {},
   "source": [
    "### Slide 21-22"
   ]
  },
  {
   "cell_type": "code",
   "execution_count": 11,
   "metadata": {
    "collapsed": true
   },
   "outputs": [
    {
     "data": {
      "text/html": [
       "<ol class=list-inline>\n",
       "\t<li>1</li>\n",
       "\t<li>22</li>\n",
       "\t<li>3</li>\n",
       "\t<li>4</li>\n",
       "\t<li>5</li>\n",
       "</ol>\n"
      ],
      "text/latex": [
       "\\begin{enumerate*}\n",
       "\\item 1\n",
       "\\item 22\n",
       "\\item 3\n",
       "\\item 4\n",
       "\\item 5\n",
       "\\end{enumerate*}\n"
      ],
      "text/markdown": [
       "1. 1\n",
       "2. 22\n",
       "3. 3\n",
       "4. 4\n",
       "5. 5\n",
       "\n",
       "\n"
      ],
      "text/plain": [
       "[1]  1 22  3  4  5"
      ]
     },
     "execution_count": 11,
     "metadata": {},
     "output_type": "execute_result"
    },
    {
     "data": {
      "text/html": [
       "<ol class=list-inline>\n",
       "\t<li>10</li>\n",
       "\t<li>11</li>\n",
       "\t<li>13</li>\n",
       "\t<li>14</li>\n",
       "\t<li>15</li>\n",
       "</ol>\n"
      ],
      "text/latex": [
       "\\begin{enumerate*}\n",
       "\\item 10\n",
       "\\item 11\n",
       "\\item 13\n",
       "\\item 14\n",
       "\\item 15\n",
       "\\end{enumerate*}\n"
      ],
      "text/markdown": [
       "1. 10\n",
       "2. 11\n",
       "3. 13\n",
       "4. 14\n",
       "5. 15\n",
       "\n",
       "\n"
      ],
      "text/plain": [
       "[1] 10 11 13 14 15"
      ]
     },
     "execution_count": 11,
     "metadata": {},
     "output_type": "execute_result"
    },
    {
     "data": {
      "text/html": [
       "<table>\n",
       "<tbody>\n",
       "\t<tr><th scope=row>dataset.a</th><td> 1</td><td>22</td><td> 3</td><td> 4</td><td> 5</td></tr>\n",
       "\t<tr><th scope=row>dataset.b</th><td>10</td><td>11</td><td>13</td><td>14</td><td>15</td></tr>\n",
       "</tbody>\n",
       "</table>\n"
      ],
      "text/latex": [
       "\\begin{tabular}{r|lllll}\n",
       "\tdataset.a &  1 & 22 &  3 &  4 &  5\\\\\n",
       "\tdataset.b & 10 & 11 & 13 & 14 & 15\\\\\n",
       "\\end{tabular}\n"
      ],
      "text/markdown": [
       "1. 1\n",
       "2. 10\n",
       "3. 22\n",
       "4. 11\n",
       "5. 3\n",
       "6. 13\n",
       "7. 4\n",
       "8. 14\n",
       "9. 5\n",
       "10. 15\n",
       "\n",
       "\n"
      ],
      "text/plain": [
       "          [,1] [,2] [,3] [,4] [,5]\n",
       "dataset.a    1   22    3    4    5\n",
       "dataset.b   10   11   13   14   15"
      ]
     },
     "execution_count": 11,
     "metadata": {},
     "output_type": "execute_result"
    },
    {
     "data": {
      "text/html": [
       "<table>\n",
       "<thead><tr><th scope=col>dataset.a</th><th scope=col>dataset.b</th></tr></thead>\n",
       "<tbody>\n",
       "\t<tr><td> 1</td><td>10</td></tr>\n",
       "\t<tr><td>22</td><td>11</td></tr>\n",
       "\t<tr><td> 3</td><td>13</td></tr>\n",
       "\t<tr><td> 4</td><td>14</td></tr>\n",
       "\t<tr><td> 5</td><td>15</td></tr>\n",
       "</tbody>\n",
       "</table>\n"
      ],
      "text/latex": [
       "\\begin{tabular}{ll}\n",
       " dataset.a & dataset.b\\\\\n",
       "\\hline\n",
       "\t  1 & 10\\\\\n",
       "\t 22 & 11\\\\\n",
       "\t  3 & 13\\\\\n",
       "\t  4 & 14\\\\\n",
       "\t  5 & 15\\\\\n",
       "\\end{tabular}\n"
      ],
      "text/markdown": [
       "1. 1\n",
       "2. 22\n",
       "3. 3\n",
       "4. 4\n",
       "5. 5\n",
       "6. 10\n",
       "7. 11\n",
       "8. 13\n",
       "9. 14\n",
       "10. 15\n",
       "\n",
       "\n"
      ],
      "text/plain": [
       "     dataset.a dataset.b\n",
       "[1,]         1        10\n",
       "[2,]        22        11\n",
       "[3,]         3        13\n",
       "[4,]         4        14\n",
       "[5,]         5        15"
      ]
     },
     "execution_count": 11,
     "metadata": {},
     "output_type": "execute_result"
    }
   ],
   "source": [
    "dataset.a <- c(1,22,3,4,5)\n",
    "dataset.b <- c(10,11,13,14,15)\n",
    "dataset.a\n",
    "dataset.b\n",
    "\n",
    "rbind.together <- rbind(dataset.a, dataset.b)\n",
    "rbind.together\n",
    "\n",
    "cbind.together <- cbind(dataset.a, dataset.b)\n",
    "cbind.together"
   ]
  },
  {
   "cell_type": "markdown",
   "metadata": {},
   "source": [
    "### Slide 23"
   ]
  },
  {
   "cell_type": "code",
   "execution_count": 12,
   "metadata": {
    "collapsed": true
   },
   "outputs": [
    {
     "data": {
      "text/html": [
       "<table>\n",
       "<tbody>\n",
       "\t<tr><td>1</td><td>2</td><td>3</td><td>4</td></tr>\n",
       "\t<tr><td>5</td><td>6</td><td>7</td><td>8</td></tr>\n",
       "\t<tr><td> 9</td><td>10</td><td>11</td><td>12</td></tr>\n",
       "</tbody>\n",
       "</table>\n"
      ],
      "text/latex": [
       "\\begin{tabular}{llll}\n",
       "\t 1 & 2 & 3 & 4\\\\\n",
       "\t 5 & 6 & 7 & 8\\\\\n",
       "\t  9 & 10 & 11 & 12\\\\\n",
       "\\end{tabular}\n"
      ],
      "text/markdown": [
       "1. 1\n",
       "2. 5\n",
       "3. 9\n",
       "4. 2\n",
       "5. 6\n",
       "6. 10\n",
       "7. 3\n",
       "8. 7\n",
       "9. 11\n",
       "10. 4\n",
       "11. 8\n",
       "12. 12\n",
       "\n",
       "\n"
      ],
      "text/plain": [
       "     [,1] [,2] [,3] [,4]\n",
       "[1,]    1    2    3    4\n",
       "[2,]    5    6    7    8\n",
       "[3,]    9   10   11   12"
      ]
     },
     "execution_count": 12,
     "metadata": {},
     "output_type": "execute_result"
    },
    {
     "data": {
      "text/html": [
       "8"
      ],
      "text/latex": [
       "8"
      ],
      "text/markdown": [
       "8"
      ],
      "text/plain": [
       "[1] 8"
      ]
     },
     "execution_count": 12,
     "metadata": {},
     "output_type": "execute_result"
    },
    {
     "data": {
      "text/html": [
       "<ol class=list-inline>\n",
       "\t<li>5</li>\n",
       "\t<li>6</li>\n",
       "\t<li>7</li>\n",
       "\t<li>8</li>\n",
       "</ol>\n"
      ],
      "text/latex": [
       "\\begin{enumerate*}\n",
       "\\item 5\n",
       "\\item 6\n",
       "\\item 7\n",
       "\\item 8\n",
       "\\end{enumerate*}\n"
      ],
      "text/markdown": [
       "1. 5\n",
       "2. 6\n",
       "3. 7\n",
       "4. 8\n",
       "\n",
       "\n"
      ],
      "text/plain": [
       "[1] 5 6 7 8"
      ]
     },
     "execution_count": 12,
     "metadata": {},
     "output_type": "execute_result"
    },
    {
     "data": {
      "text/html": [
       "<ol class=list-inline>\n",
       "\t<li>4</li>\n",
       "\t<li>8</li>\n",
       "\t<li>12</li>\n",
       "</ol>\n"
      ],
      "text/latex": [
       "\\begin{enumerate*}\n",
       "\\item 4\n",
       "\\item 8\n",
       "\\item 12\n",
       "\\end{enumerate*}\n"
      ],
      "text/markdown": [
       "1. 4\n",
       "2. 8\n",
       "3. 12\n",
       "\n",
       "\n"
      ],
      "text/plain": [
       "[1]  4  8 12"
      ]
     },
     "execution_count": 12,
     "metadata": {},
     "output_type": "execute_result"
    }
   ],
   "source": [
    "matrix.example\n",
    "matrix.example[2,4]\n",
    "matrix.example[2,]\n",
    "matrix.example[,4]"
   ]
  },
  {
   "cell_type": "markdown",
   "metadata": {},
   "source": [
    "### Slide 24"
   ]
  },
  {
   "cell_type": "code",
   "execution_count": 13,
   "metadata": {
    "collapsed": true
   },
   "outputs": [
    {
     "data": {
      "text/html": [
       "<table>\n",
       "<thead><tr><th></th><th scope=col>Sample1</th><th scope=col>Sample2</th><th scope=col>Sample3</th><th scope=col>Sample4</th></tr></thead>\n",
       "<tbody>\n",
       "\t<tr><th scope=row>gene_1</th><td>1</td><td>2</td><td>3</td><td>4</td></tr>\n",
       "\t<tr><th scope=row>gene_2</th><td>5</td><td>6</td><td>7</td><td>8</td></tr>\n",
       "\t<tr><th scope=row>gene_3</th><td> 9</td><td>10</td><td>11</td><td>12</td></tr>\n",
       "</tbody>\n",
       "</table>\n"
      ],
      "text/latex": [
       "\\begin{tabular}{r|llll}\n",
       "  & Sample1 & Sample2 & Sample3 & Sample4\\\\\n",
       "\\hline\n",
       "\tgene_1 & 1 & 2 & 3 & 4\\\\\n",
       "\tgene_2 & 5 & 6 & 7 & 8\\\\\n",
       "\tgene_3 &  9 & 10 & 11 & 12\\\\\n",
       "\\end{tabular}\n"
      ],
      "text/markdown": [
       "1. 1\n",
       "2. 5\n",
       "3. 9\n",
       "4. 2\n",
       "5. 6\n",
       "6. 10\n",
       "7. 3\n",
       "8. 7\n",
       "9. 11\n",
       "10. 4\n",
       "11. 8\n",
       "12. 12\n",
       "\n",
       "\n"
      ],
      "text/plain": [
       "       Sample1 Sample2 Sample3 Sample4\n",
       "gene_1       1       2       3       4\n",
       "gene_2       5       6       7       8\n",
       "gene_3       9      10      11      12"
      ]
     },
     "execution_count": 13,
     "metadata": {},
     "output_type": "execute_result"
    },
    {
     "data": {
      "text/html": [
       "<dl class=dl-horizontal>\n",
       "\t<dt>gene_1</dt>\n",
       "\t\t<dd>2</dd>\n",
       "\t<dt>gene_2</dt>\n",
       "\t\t<dd>6</dd>\n",
       "\t<dt>gene_3</dt>\n",
       "\t\t<dd>10</dd>\n",
       "</dl>\n"
      ],
      "text/latex": [
       "\\begin{description*}\n",
       "\\item[gene_1] 2\n",
       "\\item[gene_2] 6\n",
       "\\item[gene_3] 10\n",
       "\\end{description*}\n"
      ],
      "text/markdown": [
       "gene_1\n",
       ":   2gene_2\n",
       ":   6gene_3\n",
       ":   10\n",
       "\n"
      ],
      "text/plain": [
       "gene_1 gene_2 gene_3 \n",
       "     2      6     10 "
      ]
     },
     "execution_count": 13,
     "metadata": {},
     "output_type": "execute_result"
    },
    {
     "data": {
      "text/html": [
       "2"
      ],
      "text/latex": [
       "2"
      ],
      "text/markdown": [
       "2"
      ],
      "text/plain": [
       "[1] 2"
      ]
     },
     "execution_count": 13,
     "metadata": {},
     "output_type": "execute_result"
    },
    {
     "data": {
      "text/html": [
       "2"
      ],
      "text/latex": [
       "2"
      ],
      "text/markdown": [
       "2"
      ],
      "text/plain": [
       "[1] 2"
      ]
     },
     "execution_count": 13,
     "metadata": {},
     "output_type": "execute_result"
    }
   ],
   "source": [
    "colnames(matrix.example) <- c(\"Sample1\",\"Sample2\",\"Sample3\",\"Sample4\")\n",
    "rownames(matrix.example) <- paste(\"gene\",1:3,sep=\"_\")\n",
    "matrix.example\n",
    "\n",
    "matrix.example[,\"Sample2\"]\n",
    "matrix.example[1,\"Sample2\"]\n",
    "matrix.example[\"gene_1\",\"Sample2\"]"
   ]
  },
  {
   "cell_type": "markdown",
   "metadata": {},
   "source": [
    "### Slide 25"
   ]
  },
  {
   "cell_type": "code",
   "execution_count": 14,
   "metadata": {
    "collapsed": true
   },
   "outputs": [
    {
     "data": {
      "text/html": [
       "<table>\n",
       "<thead><tr><th></th><th scope=col>age</th><th scope=col>names</th><th scope=col>gender</th></tr></thead>\n",
       "<tbody>\n",
       "\t<tr><th scope=row>1</th><td>30</td><td>Fred</td><td>m</td></tr>\n",
       "\t<tr><th scope=row>2</th><td>29</td><td>Barney</td><td>m</td></tr>\n",
       "\t<tr><th scope=row>3</th><td>25</td><td>Wilma</td><td>f</td></tr>\n",
       "\t<tr><th scope=row>4</th><td>25</td><td>Betty</td><td>f</td></tr>\n",
       "</tbody>\n",
       "</table>\n"
      ],
      "text/latex": [
       "\\begin{tabular}{r|lll}\n",
       "  & age & names & gender\\\\\n",
       "\\hline\n",
       "\t1 & 30 & Fred & m\\\\\n",
       "\t2 & 29 & Barney & m\\\\\n",
       "\t3 & 25 & Wilma & f\\\\\n",
       "\t4 & 25 & Betty & f\\\\\n",
       "\\end{tabular}\n"
      ],
      "text/plain": [
       "  age  names gender\n",
       "1  30   Fred      m\n",
       "2  29 Barney      m\n",
       "3  25  Wilma      f\n",
       "4  25  Betty      f"
      ]
     },
     "execution_count": 14,
     "metadata": {},
     "output_type": "execute_result"
    }
   ],
   "source": [
    "## data.frame\n",
    "people.summary <- data.frame(\n",
    "                             age = c(30,29,25,25),\n",
    "                             names = c(\"Fred\", \"Barney\", \"Wilma\", \"Betty\"),\n",
    "                             gender = c(\"m\", \"m\", \"f\", \"f\")\n",
    "                             )\n",
    "people.summary"
   ]
  },
  {
   "cell_type": "markdown",
   "metadata": {},
   "source": [
    "### Slide 26"
   ]
  },
  {
   "cell_type": "code",
   "execution_count": 15,
   "metadata": {
    "collapsed": true
   },
   "outputs": [
    {
     "data": {
      "text/html": [
       "<table>\n",
       "<thead><tr><th></th><th scope=col>age</th><th scope=col>names</th><th scope=col>gender</th></tr></thead>\n",
       "<tbody>\n",
       "\t<tr><th scope=row>1</th><td>30</td><td>Fred</td><td>m</td></tr>\n",
       "\t<tr><th scope=row>2</th><td>29</td><td>Barney</td><td>m</td></tr>\n",
       "\t<tr><th scope=row>3</th><td>25</td><td>Wilma</td><td>f</td></tr>\n",
       "\t<tr><th scope=row>4</th><td>25</td><td>Betty</td><td>f</td></tr>\n",
       "</tbody>\n",
       "</table>\n"
      ],
      "text/latex": [
       "\\begin{tabular}{r|lll}\n",
       "  & age & names & gender\\\\\n",
       "\\hline\n",
       "\t1 & 30 & Fred & m\\\\\n",
       "\t2 & 29 & Barney & m\\\\\n",
       "\t3 & 25 & Wilma & f\\\\\n",
       "\t4 & 25 & Betty & f\\\\\n",
       "\\end{tabular}\n"
      ],
      "text/plain": [
       "  age  names gender\n",
       "1  30   Fred      m\n",
       "2  29 Barney      m\n",
       "3  25  Wilma      f\n",
       "4  25  Betty      f"
      ]
     },
     "execution_count": 15,
     "metadata": {},
     "output_type": "execute_result"
    },
    {
     "data": {
      "text/html": [
       "29"
      ],
      "text/latex": [
       "29"
      ],
      "text/markdown": [
       "29"
      ],
      "text/plain": [
       "[1] 29"
      ]
     },
     "execution_count": 15,
     "metadata": {},
     "output_type": "execute_result"
    },
    {
     "data": {
      "text/html": [
       "<table>\n",
       "<thead><tr><th></th><th scope=col>age</th><th scope=col>names</th><th scope=col>gender</th></tr></thead>\n",
       "<tbody>\n",
       "\t<tr><th scope=row>2</th><td>29</td><td>Barney</td><td>m</td></tr>\n",
       "</tbody>\n",
       "</table>\n"
      ],
      "text/latex": [
       "\\begin{tabular}{r|lll}\n",
       "  & age & names & gender\\\\\n",
       "\\hline\n",
       "\t2 & 29 & Barney & m\\\\\n",
       "\\end{tabular}\n"
      ],
      "text/plain": [
       "  age  names gender\n",
       "2  29 Barney      m"
      ]
     },
     "execution_count": 15,
     "metadata": {},
     "output_type": "execute_result"
    },
    {
     "data": {
      "text/html": [
       "<ol class=list-inline>\n",
       "\t<li>30</li>\n",
       "\t<li>29</li>\n",
       "\t<li>25</li>\n",
       "\t<li>25</li>\n",
       "</ol>\n"
      ],
      "text/latex": [
       "\\begin{enumerate*}\n",
       "\\item 30\n",
       "\\item 29\n",
       "\\item 25\n",
       "\\item 25\n",
       "\\end{enumerate*}\n"
      ],
      "text/markdown": [
       "1. 30\n",
       "2. 29\n",
       "3. 25\n",
       "4. 25\n",
       "\n",
       "\n"
      ],
      "text/plain": [
       "[1] 30 29 25 25"
      ]
     },
     "execution_count": 15,
     "metadata": {},
     "output_type": "execute_result"
    },
    {
     "data": {
      "text/html": [
       "<ol class=list-inline>\n",
       "\t<li>30</li>\n",
       "\t<li>29</li>\n",
       "\t<li>25</li>\n",
       "\t<li>25</li>\n",
       "</ol>\n"
      ],
      "text/latex": [
       "\\begin{enumerate*}\n",
       "\\item 30\n",
       "\\item 29\n",
       "\\item 25\n",
       "\\item 25\n",
       "\\end{enumerate*}\n"
      ],
      "text/markdown": [
       "1. 30\n",
       "2. 29\n",
       "3. 25\n",
       "4. 25\n",
       "\n",
       "\n"
      ],
      "text/plain": [
       "[1] 30 29 25 25"
      ]
     },
     "execution_count": 15,
     "metadata": {},
     "output_type": "execute_result"
    }
   ],
   "source": [
    "people.summary\n",
    "people.summary[2,1]\n",
    "people.summary[2,]\n",
    "people.summary[,1]\n",
    "people.summary$age"
   ]
  },
  {
   "cell_type": "markdown",
   "metadata": {},
   "source": [
    "### Slide 27-28"
   ]
  },
  {
   "cell_type": "code",
   "execution_count": 16,
   "metadata": {
    "collapsed": true
   },
   "outputs": [
    {
     "ename": "ERROR",
     "evalue": "Error in vapply(seq_along(mapped), function(i) {: values must be length 1,\n but FUN(X[[3]]) result is length 0\n",
     "output_type": "error",
     "traceback": [
      "Error in vapply(seq_along(mapped), function(i) {: values must be length 1,\n but FUN(X[[3]]) result is length 0\n"
     ]
    },
    {
     "data": {
      "text/html": [
       "<dl>\n",
       "\t<dt>$vector.example</dt>\n",
       "\t\t<dd><ol class=list-inline>\n",
       "\t<li>1</li>\n",
       "\t<li>22</li>\n",
       "\t<li>3</li>\n",
       "\t<li>4</li>\n",
       "\t<li>5</li>\n",
       "</ol>\n",
       "</dd>\n",
       "\t<dt>$matrix.example</dt>\n",
       "\t\t<dd><table>\n",
       "<thead><tr><th></th><th scope=col>Sample1</th><th scope=col>Sample2</th><th scope=col>Sample3</th><th scope=col>Sample4</th></tr></thead>\n",
       "<tbody>\n",
       "\t<tr><th scope=row>gene_1</th><td>1</td><td>2</td><td>3</td><td>4</td></tr>\n",
       "\t<tr><th scope=row>gene_2</th><td>5</td><td>6</td><td>7</td><td>8</td></tr>\n",
       "\t<tr><th scope=row>gene_3</th><td> 9</td><td>10</td><td>11</td><td>12</td></tr>\n",
       "</tbody>\n",
       "</table>\n",
       "</dd>\n",
       "\t<dt>$data.frame.example</dt>\n",
       "\t\t<dd><table>\n",
       "<thead><tr><th></th><th scope=col>age</th><th scope=col>names</th><th scope=col>gender</th></tr></thead>\n",
       "<tbody>\n",
       "\t<tr><th scope=row>1</th><td>30</td><td>Fred</td><td>m</td></tr>\n",
       "\t<tr><th scope=row>2</th><td>29</td><td>Barney</td><td>m</td></tr>\n",
       "\t<tr><th scope=row>3</th><td>25</td><td>Wilma</td><td>f</td></tr>\n",
       "\t<tr><th scope=row>4</th><td>25</td><td>Betty</td><td>f</td></tr>\n",
       "</tbody>\n",
       "</table>\n",
       "</dd>\n",
       "</dl>\n"
      ],
      "text/plain": [
       "$vector.example\n",
       "[1]  1 22  3  4  5\n",
       "\n",
       "$matrix.example\n",
       "       Sample1 Sample2 Sample3 Sample4\n",
       "gene_1       1       2       3       4\n",
       "gene_2       5       6       7       8\n",
       "gene_3       9      10      11      12\n",
       "\n",
       "$data.frame.example\n",
       "  age  names gender\n",
       "1  30   Fred      m\n",
       "2  29 Barney      m\n",
       "3  25  Wilma      f\n",
       "4  25  Betty      f\n"
      ]
     },
     "execution_count": 16,
     "metadata": {},
     "output_type": "execute_result"
    }
   ],
   "source": [
    "## List\n",
    "together.list <- list(\n",
    "                      vector.example = dataset.a, \n",
    "                      matrix.example = matrix.example,\n",
    "                      data.frame.example = people.summary\n",
    "                      )\n",
    "together.list"
   ]
  },
  {
   "cell_type": "markdown",
   "metadata": {},
   "source": [
    "### Slide 29"
   ]
  },
  {
   "cell_type": "code",
   "execution_count": 17,
   "metadata": {
    "collapsed": true
   },
   "outputs": [
    {
     "data": {
      "text/html": [
       "<table>\n",
       "<thead><tr><th></th><th scope=col>Sample1</th><th scope=col>Sample2</th><th scope=col>Sample3</th><th scope=col>Sample4</th></tr></thead>\n",
       "<tbody>\n",
       "\t<tr><th scope=row>gene_1</th><td>1</td><td>2</td><td>3</td><td>4</td></tr>\n",
       "\t<tr><th scope=row>gene_2</th><td>5</td><td>6</td><td>7</td><td>8</td></tr>\n",
       "\t<tr><th scope=row>gene_3</th><td> 9</td><td>10</td><td>11</td><td>12</td></tr>\n",
       "</tbody>\n",
       "</table>\n"
      ],
      "text/latex": [
       "\\begin{tabular}{r|llll}\n",
       "  & Sample1 & Sample2 & Sample3 & Sample4\\\\\n",
       "\\hline\n",
       "\tgene_1 & 1 & 2 & 3 & 4\\\\\n",
       "\tgene_2 & 5 & 6 & 7 & 8\\\\\n",
       "\tgene_3 &  9 & 10 & 11 & 12\\\\\n",
       "\\end{tabular}\n"
      ],
      "text/markdown": [
       "1. 1\n",
       "2. 5\n",
       "3. 9\n",
       "4. 2\n",
       "5. 6\n",
       "6. 10\n",
       "7. 3\n",
       "8. 7\n",
       "9. 11\n",
       "10. 4\n",
       "11. 8\n",
       "12. 12\n",
       "\n",
       "\n"
      ],
      "text/plain": [
       "       Sample1 Sample2 Sample3 Sample4\n",
       "gene_1       1       2       3       4\n",
       "gene_2       5       6       7       8\n",
       "gene_3       9      10      11      12"
      ]
     },
     "execution_count": 17,
     "metadata": {},
     "output_type": "execute_result"
    },
    {
     "data": {
      "text/html": [
       "<dl class=dl-horizontal>\n",
       "\t<dt>gene_1</dt>\n",
       "\t\t<dd>3</dd>\n",
       "\t<dt>gene_2</dt>\n",
       "\t\t<dd>7</dd>\n",
       "\t<dt>gene_3</dt>\n",
       "\t\t<dd>11</dd>\n",
       "</dl>\n"
      ],
      "text/latex": [
       "\\begin{description*}\n",
       "\\item[gene_1] 3\n",
       "\\item[gene_2] 7\n",
       "\\item[gene_3] 11\n",
       "\\end{description*}\n"
      ],
      "text/markdown": [
       "gene_1\n",
       ":   3gene_2\n",
       ":   7gene_3\n",
       ":   11\n",
       "\n"
      ],
      "text/plain": [
       "gene_1 gene_2 gene_3 \n",
       "     3      7     11 "
      ]
     },
     "execution_count": 17,
     "metadata": {},
     "output_type": "execute_result"
    },
    {
     "data": {
      "text/html": [
       "<strong>$matrix.example</strong> = <table>\n",
       "<thead><tr><th></th><th scope=col>Sample1</th><th scope=col>Sample2</th><th scope=col>Sample3</th><th scope=col>Sample4</th></tr></thead>\n",
       "<tbody>\n",
       "\t<tr><th scope=row>gene_1</th><td>1</td><td>2</td><td>3</td><td>4</td></tr>\n",
       "\t<tr><th scope=row>gene_2</th><td>5</td><td>6</td><td>7</td><td>8</td></tr>\n",
       "\t<tr><th scope=row>gene_3</th><td> 9</td><td>10</td><td>11</td><td>12</td></tr>\n",
       "</tbody>\n",
       "</table>\n"
      ],
      "text/latex": [
       "\\textbf{\\$matrix.example} = \\begin{tabular}{r|llll}\n",
       "  & Sample1 & Sample2 & Sample3 & Sample4\\\\\n",
       "\\hline\n",
       "\tgene_1 & 1 & 2 & 3 & 4\\\\\n",
       "\tgene_2 & 5 & 6 & 7 & 8\\\\\n",
       "\tgene_3 &  9 & 10 & 11 & 12\\\\\n",
       "\\end{tabular}\n"
      ],
      "text/markdown": [
       "**$matrix.example** = 1. 1\n",
       "2. 5\n",
       "3. 9\n",
       "4. 2\n",
       "5. 6\n",
       "6. 10\n",
       "7. 3\n",
       "8. 7\n",
       "9. 11\n",
       "10. 4\n",
       "11. 8\n",
       "12. 12\n",
       "\n",
       "\n"
      ],
      "text/plain": [
       "$matrix.example\n",
       "       Sample1 Sample2 Sample3 Sample4\n",
       "gene_1       1       2       3       4\n",
       "gene_2       5       6       7       8\n",
       "gene_3       9      10      11      12\n"
      ]
     },
     "execution_count": 17,
     "metadata": {},
     "output_type": "execute_result"
    },
    {
     "data": {
      "text/html": [
       "<table>\n",
       "<thead><tr><th></th><th scope=col>Sample1</th><th scope=col>Sample2</th><th scope=col>Sample3</th><th scope=col>Sample4</th></tr></thead>\n",
       "<tbody>\n",
       "\t<tr><th scope=row>gene_1</th><td>1</td><td>2</td><td>3</td><td>4</td></tr>\n",
       "\t<tr><th scope=row>gene_2</th><td>5</td><td>6</td><td>7</td><td>8</td></tr>\n",
       "\t<tr><th scope=row>gene_3</th><td> 9</td><td>10</td><td>11</td><td>12</td></tr>\n",
       "</tbody>\n",
       "</table>\n"
      ],
      "text/latex": [
       "\\begin{tabular}{r|llll}\n",
       "  & Sample1 & Sample2 & Sample3 & Sample4\\\\\n",
       "\\hline\n",
       "\tgene_1 & 1 & 2 & 3 & 4\\\\\n",
       "\tgene_2 & 5 & 6 & 7 & 8\\\\\n",
       "\tgene_3 &  9 & 10 & 11 & 12\\\\\n",
       "\\end{tabular}\n"
      ],
      "text/markdown": [
       "1. 1\n",
       "2. 5\n",
       "3. 9\n",
       "4. 2\n",
       "5. 6\n",
       "6. 10\n",
       "7. 3\n",
       "8. 7\n",
       "9. 11\n",
       "10. 4\n",
       "11. 8\n",
       "12. 12\n",
       "\n",
       "\n"
      ],
      "text/plain": [
       "       Sample1 Sample2 Sample3 Sample4\n",
       "gene_1       1       2       3       4\n",
       "gene_2       5       6       7       8\n",
       "gene_3       9      10      11      12"
      ]
     },
     "execution_count": 17,
     "metadata": {},
     "output_type": "execute_result"
    },
    {
     "data": {
      "text/html": [
       "<dl class=dl-horizontal>\n",
       "\t<dt>gene_1</dt>\n",
       "\t\t<dd>2</dd>\n",
       "\t<dt>gene_2</dt>\n",
       "\t\t<dd>6</dd>\n",
       "\t<dt>gene_3</dt>\n",
       "\t\t<dd>10</dd>\n",
       "</dl>\n"
      ],
      "text/latex": [
       "\\begin{description*}\n",
       "\\item[gene_1] 2\n",
       "\\item[gene_2] 6\n",
       "\\item[gene_3] 10\n",
       "\\end{description*}\n"
      ],
      "text/markdown": [
       "gene_1\n",
       ":   2gene_2\n",
       ":   6gene_3\n",
       ":   10\n",
       "\n"
      ],
      "text/plain": [
       "gene_1 gene_2 gene_3 \n",
       "     2      6     10 "
      ]
     },
     "execution_count": 17,
     "metadata": {},
     "output_type": "execute_result"
    }
   ],
   "source": [
    "together.list$matrix.example\n",
    "together.list$matrix.example[,3]\n",
    "together.list[\"matrix.example\"]\n",
    "together.list[[\"matrix.example\"]]\n",
    "together.list[[\"matrix.example\"]][,2]"
   ]
  },
  {
   "cell_type": "markdown",
   "metadata": {},
   "source": [
    "### Slide 30"
   ]
  },
  {
   "cell_type": "code",
   "execution_count": 18,
   "metadata": {
    "collapsed": true
   },
   "outputs": [
    {
     "data": {
      "text/html": [
       "6"
      ],
      "text/latex": [
       "6"
      ],
      "text/markdown": [
       "6"
      ],
      "text/plain": [
       "[1] 6"
      ]
     },
     "execution_count": 18,
     "metadata": {},
     "output_type": "execute_result"
    },
    {
     "data": {
      "text/html": [
       "3.32192809488736"
      ],
      "text/latex": [
       "3.32192809488736"
      ],
      "text/markdown": [
       "3.32192809488736"
      ],
      "text/plain": [
       "[1] 3.321928"
      ]
     },
     "execution_count": 18,
     "metadata": {},
     "output_type": "execute_result"
    },
    {
     "data": {
      "text/html": [
       "0.237702626427135"
      ],
      "text/latex": [
       "0.237702626427135"
      ],
      "text/markdown": [
       "0.237702626427135"
      ],
      "text/plain": [
       "[1] 0.2377026"
      ]
     },
     "execution_count": 18,
     "metadata": {},
     "output_type": "execute_result"
    },
    {
     "data": {
      "text/html": [
       "3"
      ],
      "text/latex": [
       "3"
      ],
      "text/markdown": [
       "3"
      ],
      "text/plain": [
       "[1] 3"
      ]
     },
     "execution_count": 18,
     "metadata": {},
     "output_type": "execute_result"
    }
   ],
   "source": [
    "## Basic functions\n",
    "sum(c(1,2,3))\n",
    "log2(10)\n",
    "sin(0.24)\n",
    "mean(c(1,2,3,4,5))"
   ]
  },
  {
   "cell_type": "markdown",
   "metadata": {},
   "source": [
    "### Slide 31"
   ]
  },
  {
   "cell_type": "code",
   "execution_count": 19,
   "metadata": {
    "collapsed": true
   },
   "outputs": [
    {
     "data": {
      "text/html": [
       "<ol class=list-inline>\n",
       "\t<li>'Fred'</li>\n",
       "\t<li>'Barney'</li>\n",
       "\t<li>'Wilma'</li>\n",
       "\t<li>'Betty'</li>\n",
       "</ol>\n"
      ],
      "text/latex": [
       "\\begin{enumerate*}\n",
       "\\item 'Fred'\n",
       "\\item 'Barney'\n",
       "\\item 'Wilma'\n",
       "\\item 'Betty'\n",
       "\\end{enumerate*}\n"
      ],
      "text/markdown": [
       "1. 'Fred'\n",
       "2. 'Barney'\n",
       "3. 'Wilma'\n",
       "4. 'Betty'\n",
       "\n",
       "\n"
      ],
      "text/plain": [
       "[1] \"Fred\"   \"Barney\" \"Wilma\"  \"Betty\" "
      ]
     },
     "execution_count": 19,
     "metadata": {},
     "output_type": "execute_result"
    },
    {
     "data": {
      "text/html": [
       "4"
      ],
      "text/latex": [
       "4"
      ],
      "text/markdown": [
       "4"
      ],
      "text/plain": [
       "[1] 4"
      ]
     },
     "execution_count": 19,
     "metadata": {},
     "output_type": "execute_result"
    },
    {
     "data": {
      "text/html": [
       "<table>\n",
       "<thead><tr><th></th><th scope=col>Sample1</th><th scope=col>Sample2</th><th scope=col>Sample3</th><th scope=col>Sample4</th></tr></thead>\n",
       "<tbody>\n",
       "\t<tr><th scope=row>gene_1</th><td>1</td><td>2</td><td>3</td><td>4</td></tr>\n",
       "\t<tr><th scope=row>gene_2</th><td>5</td><td>6</td><td>7</td><td>8</td></tr>\n",
       "\t<tr><th scope=row>gene_3</th><td> 9</td><td>10</td><td>11</td><td>12</td></tr>\n",
       "</tbody>\n",
       "</table>\n"
      ],
      "text/latex": [
       "\\begin{tabular}{r|llll}\n",
       "  & Sample1 & Sample2 & Sample3 & Sample4\\\\\n",
       "\\hline\n",
       "\tgene_1 & 1 & 2 & 3 & 4\\\\\n",
       "\tgene_2 & 5 & 6 & 7 & 8\\\\\n",
       "\tgene_3 &  9 & 10 & 11 & 12\\\\\n",
       "\\end{tabular}\n"
      ],
      "text/markdown": [
       "1. 1\n",
       "2. 5\n",
       "3. 9\n",
       "4. 2\n",
       "5. 6\n",
       "6. 10\n",
       "7. 3\n",
       "8. 7\n",
       "9. 11\n",
       "10. 4\n",
       "11. 8\n",
       "12. 12\n",
       "\n",
       "\n"
      ],
      "text/plain": [
       "       Sample1 Sample2 Sample3 Sample4\n",
       "gene_1       1       2       3       4\n",
       "gene_2       5       6       7       8\n",
       "gene_3       9      10      11      12"
      ]
     },
     "execution_count": 19,
     "metadata": {},
     "output_type": "execute_result"
    },
    {
     "data": {
      "text/html": [
       "3"
      ],
      "text/latex": [
       "3"
      ],
      "text/markdown": [
       "3"
      ],
      "text/plain": [
       "[1] 3"
      ]
     },
     "execution_count": 19,
     "metadata": {},
     "output_type": "execute_result"
    },
    {
     "data": {
      "text/html": [
       "4"
      ],
      "text/latex": [
       "4"
      ],
      "text/markdown": [
       "4"
      ],
      "text/plain": [
       "[1] 4"
      ]
     },
     "execution_count": 19,
     "metadata": {},
     "output_type": "execute_result"
    },
    {
     "data": {
      "text/html": [
       "<ol class=list-inline>\n",
       "\t<li>3</li>\n",
       "\t<li>4</li>\n",
       "</ol>\n"
      ],
      "text/latex": [
       "\\begin{enumerate*}\n",
       "\\item 3\n",
       "\\item 4\n",
       "\\end{enumerate*}\n"
      ],
      "text/markdown": [
       "1. 3\n",
       "2. 4\n",
       "\n",
       "\n"
      ],
      "text/plain": [
       "[1] 3 4"
      ]
     },
     "execution_count": 19,
     "metadata": {},
     "output_type": "execute_result"
    }
   ],
   "source": [
    "character.vector\n",
    "length(character.vector)\n",
    "matrix.example\n",
    "nrow(matrix.example)\n",
    "ncol(matrix.example)\n",
    "dim(matrix.example)"
   ]
  },
  {
   "cell_type": "markdown",
   "metadata": {},
   "source": [
    "### Slide 32"
   ]
  },
  {
   "cell_type": "code",
   "execution_count": null,
   "metadata": {
    "collapsed": true
   },
   "outputs": [],
   "source": [
    "?read.table\n",
    "## read.table(\"myDataFile.txt\", header=TRUE, sep=\"\\t\", stringsAsFactors=FALSE) ##Example how to read a text file, not ran here\n",
    "?write.table\n",
    "## write.table(people.summary, file=\"File_name_people_summary.txt\", quote=FALSE, sep = \"\\t\",row.names = FALSE, col.names = TRUE)"
   ]
  },
  {
   "cell_type": "markdown",
   "metadata": {},
   "source": [
    "### Slide 33\n",
    "#### Solution to Exercise I"
   ]
  },
  {
   "cell_type": "code",
   "execution_count": 21,
   "metadata": {
    "collapsed": true
   },
   "outputs": [],
   "source": [
    "# Use the assignment operator to store three values of your choice.\n",
    "value.a <- 10\n",
    "value.b <- 3\n",
    "value.c <- 12\n",
    "\n",
    "# Calculate and store the sum of the values from above.\n",
    "sum.values <- value.a + value.b + value.c"
   ]
  },
  {
   "cell_type": "markdown",
   "metadata": {},
   "source": [
    "### Slide 35\n",
    "#### Solution to Exercise II"
   ]
  },
  {
   "cell_type": "code",
   "execution_count": 22,
   "metadata": {
    "collapsed": true
   },
   "outputs": [
    {
     "data": {
      "text/html": [
       "'data.frame'"
      ],
      "text/latex": [
       "'data.frame'"
      ],
      "text/markdown": [
       "'data.frame'"
      ],
      "text/plain": [
       "[1] \"data.frame\""
      ]
     },
     "execution_count": 22,
     "metadata": {},
     "output_type": "execute_result"
    },
    {
     "data": {
      "text/html": [
       "<ol class=list-inline>\n",
       "\t<li>50</li>\n",
       "\t<li>2</li>\n",
       "</ol>\n"
      ],
      "text/latex": [
       "\\begin{enumerate*}\n",
       "\\item 50\n",
       "\\item 2\n",
       "\\end{enumerate*}\n"
      ],
      "text/markdown": [
       "1. 50\n",
       "2. 2\n",
       "\n",
       "\n"
      ],
      "text/plain": [
       "[1] 50  2"
      ]
     },
     "execution_count": 22,
     "metadata": {},
     "output_type": "execute_result"
    },
    {
     "name": "stdout",
     "output_type": "stream",
     "text": [
      "'data.frame':\t50 obs. of  2 variables:\n",
      " $ speed: num  4 4 7 7 8 9 10 10 10 11 ...\n",
      " $ dist : num  2 10 4 22 16 10 18 26 34 17 ...\n"
     ]
    },
    {
     "data": {
      "text/html": [
       "<table>\n",
       "<thead><tr><th></th><th scope=col>speed</th><th scope=col>dist</th></tr></thead>\n",
       "<tbody>\n",
       "\t<tr><th scope=row>1</th><td>4</td><td>2</td></tr>\n",
       "\t<tr><th scope=row>2</th><td>4</td><td>10</td></tr>\n",
       "\t<tr><th scope=row>3</th><td>7</td><td>4</td></tr>\n",
       "\t<tr><th scope=row>4</th><td>7</td><td>22</td></tr>\n",
       "\t<tr><th scope=row>5</th><td>8</td><td>16</td></tr>\n",
       "\t<tr><th scope=row>6</th><td>9</td><td>10</td></tr>\n",
       "</tbody>\n",
       "</table>\n"
      ],
      "text/latex": [
       "\\begin{tabular}{r|ll}\n",
       "  & speed & dist\\\\\n",
       "\\hline\n",
       "\t1 & 4 & 2\\\\\n",
       "\t2 & 4 & 10\\\\\n",
       "\t3 & 7 & 4\\\\\n",
       "\t4 & 7 & 22\\\\\n",
       "\t5 & 8 & 16\\\\\n",
       "\t6 & 9 & 10\\\\\n",
       "\\end{tabular}\n"
      ],
      "text/plain": [
       "  speed dist\n",
       "1     4    2\n",
       "2     4   10\n",
       "3     7    4\n",
       "4     7   22\n",
       "5     8   16\n",
       "6     9   10"
      ]
     },
     "execution_count": 22,
     "metadata": {},
     "output_type": "execute_result"
    },
    {
     "data": {
      "text/html": [
       "<ol class=list-inline>\n",
       "\t<li>4</li>\n",
       "\t<li>4</li>\n",
       "\t<li>7</li>\n",
       "\t<li>7</li>\n",
       "\t<li>8</li>\n",
       "\t<li>9</li>\n",
       "\t<li>10</li>\n",
       "\t<li>10</li>\n",
       "\t<li>10</li>\n",
       "\t<li>11</li>\n",
       "\t<li>11</li>\n",
       "\t<li>12</li>\n",
       "\t<li>12</li>\n",
       "\t<li>12</li>\n",
       "\t<li>12</li>\n",
       "\t<li>13</li>\n",
       "\t<li>13</li>\n",
       "\t<li>13</li>\n",
       "\t<li>13</li>\n",
       "\t<li>14</li>\n",
       "\t<li>14</li>\n",
       "\t<li>14</li>\n",
       "\t<li>14</li>\n",
       "\t<li>15</li>\n",
       "\t<li>15</li>\n",
       "\t<li>15</li>\n",
       "\t<li>16</li>\n",
       "\t<li>16</li>\n",
       "\t<li>17</li>\n",
       "\t<li>17</li>\n",
       "\t<li>17</li>\n",
       "\t<li>18</li>\n",
       "\t<li>18</li>\n",
       "\t<li>18</li>\n",
       "\t<li>18</li>\n",
       "\t<li>19</li>\n",
       "\t<li>19</li>\n",
       "\t<li>19</li>\n",
       "\t<li>20</li>\n",
       "\t<li>20</li>\n",
       "\t<li>20</li>\n",
       "\t<li>20</li>\n",
       "\t<li>20</li>\n",
       "\t<li>22</li>\n",
       "\t<li>23</li>\n",
       "\t<li>24</li>\n",
       "\t<li>24</li>\n",
       "\t<li>24</li>\n",
       "\t<li>24</li>\n",
       "\t<li>25</li>\n",
       "</ol>\n"
      ],
      "text/latex": [
       "\\begin{enumerate*}\n",
       "\\item 4\n",
       "\\item 4\n",
       "\\item 7\n",
       "\\item 7\n",
       "\\item 8\n",
       "\\item 9\n",
       "\\item 10\n",
       "\\item 10\n",
       "\\item 10\n",
       "\\item 11\n",
       "\\item 11\n",
       "\\item 12\n",
       "\\item 12\n",
       "\\item 12\n",
       "\\item 12\n",
       "\\item 13\n",
       "\\item 13\n",
       "\\item 13\n",
       "\\item 13\n",
       "\\item 14\n",
       "\\item 14\n",
       "\\item 14\n",
       "\\item 14\n",
       "\\item 15\n",
       "\\item 15\n",
       "\\item 15\n",
       "\\item 16\n",
       "\\item 16\n",
       "\\item 17\n",
       "\\item 17\n",
       "\\item 17\n",
       "\\item 18\n",
       "\\item 18\n",
       "\\item 18\n",
       "\\item 18\n",
       "\\item 19\n",
       "\\item 19\n",
       "\\item 19\n",
       "\\item 20\n",
       "\\item 20\n",
       "\\item 20\n",
       "\\item 20\n",
       "\\item 20\n",
       "\\item 22\n",
       "\\item 23\n",
       "\\item 24\n",
       "\\item 24\n",
       "\\item 24\n",
       "\\item 24\n",
       "\\item 25\n",
       "\\end{enumerate*}\n"
      ],
      "text/markdown": [
       "1. 4\n",
       "2. 4\n",
       "3. 7\n",
       "4. 7\n",
       "5. 8\n",
       "6. 9\n",
       "7. 10\n",
       "8. 10\n",
       "9. 10\n",
       "10. 11\n",
       "11. 11\n",
       "12. 12\n",
       "13. 12\n",
       "14. 12\n",
       "15. 12\n",
       "16. 13\n",
       "17. 13\n",
       "18. 13\n",
       "19. 13\n",
       "20. 14\n",
       "21. 14\n",
       "22. 14\n",
       "23. 14\n",
       "24. 15\n",
       "25. 15\n",
       "26. 15\n",
       "27. 16\n",
       "28. 16\n",
       "29. 17\n",
       "30. 17\n",
       "31. 17\n",
       "32. 18\n",
       "33. 18\n",
       "34. 18\n",
       "35. 18\n",
       "36. 19\n",
       "37. 19\n",
       "38. 19\n",
       "39. 20\n",
       "40. 20\n",
       "41. 20\n",
       "42. 20\n",
       "43. 20\n",
       "44. 22\n",
       "45. 23\n",
       "46. 24\n",
       "47. 24\n",
       "48. 24\n",
       "49. 24\n",
       "50. 25\n",
       "\n",
       "\n"
      ],
      "text/plain": [
       " [1]  4  4  7  7  8  9 10 10 10 11 11 12 12 12 12 13 13 13 13 14 14 14 14 15 15\n",
       "[26] 15 16 16 17 17 17 18 18 18 18 19 19 19 20 20 20 20 20 22 23 24 24 24 24 25"
      ]
     },
     "execution_count": 22,
     "metadata": {},
     "output_type": "execute_result"
    }
   ],
   "source": [
    "# What data type is the cars dataset? and its dimensions?\n",
    "class(cars)\n",
    "dim(cars)\n",
    "## or\n",
    "str(cars)\n",
    "\n",
    "## To look at the object\n",
    "head(cars) ## print a subset of the dataset\n",
    "\n",
    "## Access to the speed values\n",
    "cars$speed"
   ]
  },
  {
   "cell_type": "markdown",
   "metadata": {},
   "source": [
    "### Slide 37"
   ]
  },
  {
   "cell_type": "code",
   "execution_count": 23,
   "metadata": {
    "collapsed": true
   },
   "outputs": [
    {
     "data": {
      "text/html": [
       "24"
      ],
      "text/latex": [
       "24"
      ],
      "text/markdown": [
       "24"
      ],
      "text/plain": [
       "[1] 24"
      ]
     },
     "execution_count": 23,
     "metadata": {},
     "output_type": "execute_result"
    },
    {
     "data": {
      "text/html": [
       "<dl>\n",
       "\t<dt>$SPEED</dt>\n",
       "\t\t<dd><ol class=list-inline>\n",
       "\t<li>4</li>\n",
       "\t<li>4</li>\n",
       "\t<li>7</li>\n",
       "\t<li>7</li>\n",
       "\t<li>8</li>\n",
       "\t<li>9</li>\n",
       "\t<li>10</li>\n",
       "\t<li>10</li>\n",
       "\t<li>10</li>\n",
       "\t<li>11</li>\n",
       "\t<li>11</li>\n",
       "\t<li>12</li>\n",
       "\t<li>12</li>\n",
       "\t<li>12</li>\n",
       "\t<li>12</li>\n",
       "\t<li>13</li>\n",
       "\t<li>13</li>\n",
       "\t<li>13</li>\n",
       "\t<li>13</li>\n",
       "\t<li>14</li>\n",
       "\t<li>14</li>\n",
       "\t<li>14</li>\n",
       "\t<li>14</li>\n",
       "\t<li>15</li>\n",
       "\t<li>15</li>\n",
       "\t<li>15</li>\n",
       "\t<li>16</li>\n",
       "\t<li>16</li>\n",
       "\t<li>17</li>\n",
       "\t<li>17</li>\n",
       "\t<li>17</li>\n",
       "\t<li>18</li>\n",
       "\t<li>18</li>\n",
       "\t<li>18</li>\n",
       "\t<li>18</li>\n",
       "\t<li>19</li>\n",
       "\t<li>19</li>\n",
       "\t<li>19</li>\n",
       "\t<li>20</li>\n",
       "\t<li>20</li>\n",
       "\t<li>20</li>\n",
       "\t<li>20</li>\n",
       "\t<li>20</li>\n",
       "\t<li>22</li>\n",
       "\t<li>23</li>\n",
       "\t<li>24</li>\n",
       "\t<li>24</li>\n",
       "\t<li>24</li>\n",
       "\t<li>24</li>\n",
       "\t<li>25</li>\n",
       "</ol>\n",
       "</dd>\n",
       "\t<dt>$DISTANCE</dt>\n",
       "\t\t<dd><ol class=list-inline>\n",
       "\t<li>2</li>\n",
       "\t<li>10</li>\n",
       "\t<li>4</li>\n",
       "\t<li>22</li>\n",
       "\t<li>16</li>\n",
       "\t<li>10</li>\n",
       "\t<li>18</li>\n",
       "\t<li>26</li>\n",
       "\t<li>34</li>\n",
       "\t<li>17</li>\n",
       "\t<li>28</li>\n",
       "\t<li>14</li>\n",
       "\t<li>20</li>\n",
       "\t<li>24</li>\n",
       "\t<li>28</li>\n",
       "\t<li>26</li>\n",
       "\t<li>34</li>\n",
       "\t<li>34</li>\n",
       "\t<li>46</li>\n",
       "\t<li>26</li>\n",
       "\t<li>36</li>\n",
       "\t<li>60</li>\n",
       "\t<li>80</li>\n",
       "\t<li>20</li>\n",
       "\t<li>26</li>\n",
       "\t<li>54</li>\n",
       "\t<li>32</li>\n",
       "\t<li>40</li>\n",
       "\t<li>32</li>\n",
       "\t<li>40</li>\n",
       "\t<li>50</li>\n",
       "\t<li>42</li>\n",
       "\t<li>56</li>\n",
       "\t<li>76</li>\n",
       "\t<li>84</li>\n",
       "\t<li>36</li>\n",
       "\t<li>46</li>\n",
       "\t<li>68</li>\n",
       "\t<li>32</li>\n",
       "\t<li>48</li>\n",
       "\t<li>52</li>\n",
       "\t<li>56</li>\n",
       "\t<li>64</li>\n",
       "\t<li>66</li>\n",
       "\t<li>54</li>\n",
       "\t<li>70</li>\n",
       "\t<li>92</li>\n",
       "\t<li>93</li>\n",
       "\t<li>120</li>\n",
       "\t<li>85</li>\n",
       "</ol>\n",
       "</dd>\n",
       "</dl>\n"
      ],
      "text/latex": [
       "\\begin{description}\n",
       "\\item[\\$SPEED] \\begin{enumerate*}\n",
       "\\item 4\n",
       "\\item 4\n",
       "\\item 7\n",
       "\\item 7\n",
       "\\item 8\n",
       "\\item 9\n",
       "\\item 10\n",
       "\\item 10\n",
       "\\item 10\n",
       "\\item 11\n",
       "\\item 11\n",
       "\\item 12\n",
       "\\item 12\n",
       "\\item 12\n",
       "\\item 12\n",
       "\\item 13\n",
       "\\item 13\n",
       "\\item 13\n",
       "\\item 13\n",
       "\\item 14\n",
       "\\item 14\n",
       "\\item 14\n",
       "\\item 14\n",
       "\\item 15\n",
       "\\item 15\n",
       "\\item 15\n",
       "\\item 16\n",
       "\\item 16\n",
       "\\item 17\n",
       "\\item 17\n",
       "\\item 17\n",
       "\\item 18\n",
       "\\item 18\n",
       "\\item 18\n",
       "\\item 18\n",
       "\\item 19\n",
       "\\item 19\n",
       "\\item 19\n",
       "\\item 20\n",
       "\\item 20\n",
       "\\item 20\n",
       "\\item 20\n",
       "\\item 20\n",
       "\\item 22\n",
       "\\item 23\n",
       "\\item 24\n",
       "\\item 24\n",
       "\\item 24\n",
       "\\item 24\n",
       "\\item 25\n",
       "\\end{enumerate*}\n",
       "\n",
       "\\item[\\$DISTANCE] \\begin{enumerate*}\n",
       "\\item 2\n",
       "\\item 10\n",
       "\\item 4\n",
       "\\item 22\n",
       "\\item 16\n",
       "\\item 10\n",
       "\\item 18\n",
       "\\item 26\n",
       "\\item 34\n",
       "\\item 17\n",
       "\\item 28\n",
       "\\item 14\n",
       "\\item 20\n",
       "\\item 24\n",
       "\\item 28\n",
       "\\item 26\n",
       "\\item 34\n",
       "\\item 34\n",
       "\\item 46\n",
       "\\item 26\n",
       "\\item 36\n",
       "\\item 60\n",
       "\\item 80\n",
       "\\item 20\n",
       "\\item 26\n",
       "\\item 54\n",
       "\\item 32\n",
       "\\item 40\n",
       "\\item 32\n",
       "\\item 40\n",
       "\\item 50\n",
       "\\item 42\n",
       "\\item 56\n",
       "\\item 76\n",
       "\\item 84\n",
       "\\item 36\n",
       "\\item 46\n",
       "\\item 68\n",
       "\\item 32\n",
       "\\item 48\n",
       "\\item 52\n",
       "\\item 56\n",
       "\\item 64\n",
       "\\item 66\n",
       "\\item 54\n",
       "\\item 70\n",
       "\\item 92\n",
       "\\item 93\n",
       "\\item 120\n",
       "\\item 85\n",
       "\\end{enumerate*}\n",
       "\n",
       "\\end{description}\n"
      ],
      "text/markdown": [
       "$SPEED\n",
       ":   1. 4\n",
       "2. 4\n",
       "3. 7\n",
       "4. 7\n",
       "5. 8\n",
       "6. 9\n",
       "7. 10\n",
       "8. 10\n",
       "9. 10\n",
       "10. 11\n",
       "11. 11\n",
       "12. 12\n",
       "13. 12\n",
       "14. 12\n",
       "15. 12\n",
       "16. 13\n",
       "17. 13\n",
       "18. 13\n",
       "19. 13\n",
       "20. 14\n",
       "21. 14\n",
       "22. 14\n",
       "23. 14\n",
       "24. 15\n",
       "25. 15\n",
       "26. 15\n",
       "27. 16\n",
       "28. 16\n",
       "29. 17\n",
       "30. 17\n",
       "31. 17\n",
       "32. 18\n",
       "33. 18\n",
       "34. 18\n",
       "35. 18\n",
       "36. 19\n",
       "37. 19\n",
       "38. 19\n",
       "39. 20\n",
       "40. 20\n",
       "41. 20\n",
       "42. 20\n",
       "43. 20\n",
       "44. 22\n",
       "45. 23\n",
       "46. 24\n",
       "47. 24\n",
       "48. 24\n",
       "49. 24\n",
       "50. 25\n",
       "\n",
       "\n",
       "\n",
       "$DISTANCE\n",
       ":   1. 2\n",
       "2. 10\n",
       "3. 4\n",
       "4. 22\n",
       "5. 16\n",
       "6. 10\n",
       "7. 18\n",
       "8. 26\n",
       "9. 34\n",
       "10. 17\n",
       "11. 28\n",
       "12. 14\n",
       "13. 20\n",
       "14. 24\n",
       "15. 28\n",
       "16. 26\n",
       "17. 34\n",
       "18. 34\n",
       "19. 46\n",
       "20. 26\n",
       "21. 36\n",
       "22. 60\n",
       "23. 80\n",
       "24. 20\n",
       "25. 26\n",
       "26. 54\n",
       "27. 32\n",
       "28. 40\n",
       "29. 32\n",
       "30. 40\n",
       "31. 50\n",
       "32. 42\n",
       "33. 56\n",
       "34. 76\n",
       "35. 84\n",
       "36. 36\n",
       "37. 46\n",
       "38. 68\n",
       "39. 32\n",
       "40. 48\n",
       "41. 52\n",
       "42. 56\n",
       "43. 64\n",
       "44. 66\n",
       "45. 54\n",
       "46. 70\n",
       "47. 92\n",
       "48. 93\n",
       "49. 120\n",
       "50. 85\n",
       "\n",
       "\n",
       "\n",
       "\n",
       "\n"
      ],
      "text/plain": [
       "$SPEED\n",
       " [1]  4  4  7  7  8  9 10 10 10 11 11 12 12 12 12 13 13 13 13 14 14 14 14 15 15\n",
       "[26] 15 16 16 17 17 17 18 18 18 18 19 19 19 20 20 20 20 20 22 23 24 24 24 24 25\n",
       "\n",
       "$DISTANCE\n",
       " [1]   2  10   4  22  16  10  18  26  34  17  28  14  20  24  28  26  34  34  46\n",
       "[20]  26  36  60  80  20  26  54  32  40  32  40  50  42  56  76  84  36  46  68\n",
       "[39]  32  48  52  56  64  66  54  70  92  93 120  85\n"
      ]
     },
     "execution_count": 23,
     "metadata": {},
     "output_type": "execute_result"
    },
    {
     "data": {
      "text/html": [
       "<ol class=list-inline>\n",
       "\t<li>'SPEED'</li>\n",
       "\t<li>'DISTANCE'</li>\n",
       "</ol>\n"
      ],
      "text/latex": [
       "\\begin{enumerate*}\n",
       "\\item 'SPEED'\n",
       "\\item 'DISTANCE'\n",
       "\\end{enumerate*}\n"
      ],
      "text/markdown": [
       "1. 'SPEED'\n",
       "2. 'DISTANCE'\n",
       "\n",
       "\n"
      ],
      "text/plain": [
       "[1] \"SPEED\"    \"DISTANCE\""
      ]
     },
     "execution_count": 23,
     "metadata": {},
     "output_type": "execute_result"
    }
   ],
   "source": [
    "# Access and store only the cars data with speeds greater than 15. How many cars does this affect?\n",
    "cars.greater.speed <- cars[cars$speed > 15,]\n",
    "nrow(cars.greater.speed)\n",
    "\n",
    "# Reformat the cars data into a list\n",
    "cars.as.list <- list(\n",
    "\tSPEED = cars$speed,\n",
    "\tDISTANCE = cars$dist\n",
    "\t)\n",
    "cars.as.list\n",
    "names(cars.as.list)"
   ]
  },
  {
   "cell_type": "markdown",
   "metadata": {},
   "source": [
    "### Slide 38"
   ]
  },
  {
   "cell_type": "code",
   "execution_count": 24,
   "metadata": {
    "collapsed": true
   },
   "outputs": [
    {
     "data": {
      "text/html": [
       "<ol class=list-inline>\n",
       "\t<li>16</li>\n",
       "\t<li>16</li>\n",
       "\t<li>17</li>\n",
       "\t<li>17</li>\n",
       "\t<li>17</li>\n",
       "\t<li>18</li>\n",
       "\t<li>18</li>\n",
       "\t<li>18</li>\n",
       "\t<li>18</li>\n",
       "\t<li>19</li>\n",
       "\t<li>19</li>\n",
       "\t<li>19</li>\n",
       "\t<li>20</li>\n",
       "\t<li>20</li>\n",
       "\t<li>20</li>\n",
       "\t<li>20</li>\n",
       "\t<li>20</li>\n",
       "\t<li>22</li>\n",
       "\t<li>23</li>\n",
       "\t<li>24</li>\n",
       "\t<li>24</li>\n",
       "\t<li>24</li>\n",
       "\t<li>24</li>\n",
       "\t<li>25</li>\n",
       "</ol>\n"
      ],
      "text/latex": [
       "\\begin{enumerate*}\n",
       "\\item 16\n",
       "\\item 16\n",
       "\\item 17\n",
       "\\item 17\n",
       "\\item 17\n",
       "\\item 18\n",
       "\\item 18\n",
       "\\item 18\n",
       "\\item 18\n",
       "\\item 19\n",
       "\\item 19\n",
       "\\item 19\n",
       "\\item 20\n",
       "\\item 20\n",
       "\\item 20\n",
       "\\item 20\n",
       "\\item 20\n",
       "\\item 22\n",
       "\\item 23\n",
       "\\item 24\n",
       "\\item 24\n",
       "\\item 24\n",
       "\\item 24\n",
       "\\item 25\n",
       "\\end{enumerate*}\n"
      ],
      "text/markdown": [
       "1. 16\n",
       "2. 16\n",
       "3. 17\n",
       "4. 17\n",
       "5. 17\n",
       "6. 18\n",
       "7. 18\n",
       "8. 18\n",
       "9. 18\n",
       "10. 19\n",
       "11. 19\n",
       "12. 19\n",
       "13. 20\n",
       "14. 20\n",
       "15. 20\n",
       "16. 20\n",
       "17. 20\n",
       "18. 22\n",
       "19. 23\n",
       "20. 24\n",
       "21. 24\n",
       "22. 24\n",
       "23. 24\n",
       "24. 25\n",
       "\n",
       "\n"
      ],
      "text/plain": [
       " [1] 16 16 17 17 17 18 18 18 18 19 19 19 20 20 20 20 20 22 23 24 24 24 24 25"
      ]
     },
     "execution_count": 24,
     "metadata": {},
     "output_type": "execute_result"
    },
    {
     "data": {
      "text/html": [
       "24"
      ],
      "text/latex": [
       "24"
      ],
      "text/markdown": [
       "24"
      ],
      "text/plain": [
       "[1] 24"
      ]
     },
     "execution_count": 24,
     "metadata": {},
     "output_type": "execute_result"
    }
   ],
   "source": [
    "# Access only the cars data with speeds greater than 15 from the list you just created. How many cars does this affect? Did you get the same results as above?\n",
    "cars.as.list.greater.speed <- cars.as.list$SPEED[cars.as.list$SPEED > 15]\n",
    "cars.as.list.greater.speed\n",
    "length(cars.as.list.greater.speed)"
   ]
  },
  {
   "cell_type": "markdown",
   "metadata": {},
   "source": [
    "### Slide 39"
   ]
  },
  {
   "cell_type": "code",
   "execution_count": null,
   "metadata": {
    "collapsed": true
   },
   "outputs": [],
   "source": [
    "# What does stringsAsFactors in the data.frame function do?\n",
    "?data.frame"
   ]
  },
  {
   "cell_type": "markdown",
   "metadata": {},
   "source": [
    "### Slide 41"
   ]
  },
  {
   "cell_type": "code",
   "execution_count": 25,
   "metadata": {
    "collapsed": true
   },
   "outputs": [
    {
     "data": {
      "image/png": "[encoded data removed]",
      "text/plain": [
       "plot without title"
      ]
     },
     "metadata": {
      "image/svg+xml": {
       "isolated": true
      }
     },
     "output_type": "display_data"
    },
    {
     "data": {
      "image/png": "[encoded data removed]",
      "text/plain": [
       "Plot with title “A nice scatter plot”"
      ]
     },
     "metadata": {
      "image/svg+xml": {
       "isolated": true
      }
     },
     "output_type": "display_data"
    }
   ],
   "source": [
    "plot(x=cars$speed, y=cars$dist)\n",
    "\n",
    "plot(x=cars$speed, y=cars$dist,\n",
    "    xlab = \"Speed\",\n",
    "    ylab = \"Distance\",\n",
    "    cex.lab = 1.5,\n",
    "    main = \"A nice scatter plot\",\n",
    "    pch = 16,\n",
    "    bty = \"n\",\n",
    "    col = \"dark blue\",\n",
    "    las = 1\n",
    "    )\n",
    "## las\n",
    "## How to change the axes label style in R\n",
    "## To change the axes label style, use the graphics option las (label style). This changes the orientation angle of the labels:\n",
    "## 0: The default, parallel to the axis\n",
    "## 1: Always horizontal\n",
    "## 2: Perpendicular to the axis\n",
    "## 3: Always vertical\n",
    "\n",
    "## bty\n",
    "## To change the type of box round the plot area, use the option bty (box type):\n",
    "## \"o\": The default value draws a complete rectangle around the plot.\n",
    "## \"n\": Draws nothing around the plot."
   ]
  },
  {
   "cell_type": "markdown",
   "metadata": {},
   "source": [
    "### Slide 42"
   ]
  },
  {
   "cell_type": "code",
   "execution_count": 26,
   "metadata": {
    "collapsed": true
   },
   "outputs": [
    {
     "data": {
      "image/png": "[encoded data removed]",
      "text/plain": [
       "Plot with title “Histogram of cars$speed”"
      ]
     },
     "metadata": {
      "image/svg+xml": {
       "isolated": true
      }
     },
     "output_type": "display_data"
    },
    {
     "data": {
      "image/png": "[encoded data removed]",
      "text/plain": [
       "Plot with title “A nice histogram”"
      ]
     },
     "metadata": {
      "image/svg+xml": {
       "isolated": true
      }
     },
     "output_type": "display_data"
    }
   ],
   "source": [
    "hist(cars$speed)\n",
    "\n",
    "hist(cars$speed,\n",
    "    xlab = \"Speed\",\n",
    "    ylab = \"Number of cars\",\n",
    "    cex.lab = 1.5,\n",
    "    main = \"A nice histogram\",\n",
    "    col = \"cyan\",\n",
    "    breaks = 10,\n",
    "    las = 1\n",
    "    )"
   ]
  },
  {
   "cell_type": "markdown",
   "metadata": {},
   "source": [
    "### Slide 43"
   ]
  },
  {
   "cell_type": "code",
   "execution_count": 27,
   "metadata": {
    "collapsed": true
   },
   "outputs": [
    {
     "data": {
      "image/png": "[encoded data removed]",
      "text/plain": [
       "plot without title"
      ]
     },
     "metadata": {
      "image/svg+xml": {
       "isolated": true
      }
     },
     "output_type": "display_data"
    }
   ],
   "source": [
    "boxplot(cars)"
   ]
  },
  {
   "cell_type": "markdown",
   "metadata": {},
   "source": [
    "### Slide 44"
   ]
  },
  {
   "cell_type": "code",
   "execution_count": null,
   "metadata": {
    "collapsed": true
   },
   "outputs": [],
   "source": [
    "?par\n",
    "?pdf"
   ]
  },
  {
   "cell_type": "markdown",
   "metadata": {},
   "source": [
    "### Slide 45"
   ]
  },
  {
   "cell_type": "code",
   "execution_count": 28,
   "metadata": {
    "collapsed": true
   },
   "outputs": [
    {
     "data": {
      "text/html": [
       "<ol class=list-inline>\n",
       "\t<li>1</li>\n",
       "\t<li>3</li>\n",
       "\t<li>5</li>\n",
       "\t<li>NA</li>\n",
       "\t<li>3</li>\n",
       "\t<li>6</li>\n",
       "</ol>\n"
      ],
      "text/latex": [
       "\\begin{enumerate*}\n",
       "\\item 1\n",
       "\\item 3\n",
       "\\item 5\n",
       "\\item NA\n",
       "\\item 3\n",
       "\\item 6\n",
       "\\end{enumerate*}\n"
      ],
      "text/markdown": [
       "1. 1\n",
       "2. 3\n",
       "3. 5\n",
       "4. NA\n",
       "5. 3\n",
       "6. 6\n",
       "\n",
       "\n"
      ],
      "text/plain": [
       "[1]  1  3  5 NA  3  6"
      ]
     },
     "execution_count": 28,
     "metadata": {},
     "output_type": "execute_result"
    },
    {
     "data": {
      "text/html": [
       "<ol class=list-inline>\n",
       "\t<li>FALSE</li>\n",
       "\t<li>FALSE</li>\n",
       "\t<li>FALSE</li>\n",
       "\t<li>TRUE</li>\n",
       "\t<li>FALSE</li>\n",
       "\t<li>FALSE</li>\n",
       "</ol>\n"
      ],
      "text/latex": [
       "\\begin{enumerate*}\n",
       "\\item FALSE\n",
       "\\item FALSE\n",
       "\\item FALSE\n",
       "\\item TRUE\n",
       "\\item FALSE\n",
       "\\item FALSE\n",
       "\\end{enumerate*}\n"
      ],
      "text/markdown": [
       "1. FALSE\n",
       "2. FALSE\n",
       "3. FALSE\n",
       "4. TRUE\n",
       "5. FALSE\n",
       "6. FALSE\n",
       "\n",
       "\n"
      ],
      "text/plain": [
       "[1] FALSE FALSE FALSE  TRUE FALSE FALSE"
      ]
     },
     "execution_count": 28,
     "metadata": {},
     "output_type": "execute_result"
    },
    {
     "data": {
      "text/html": [
       "4"
      ],
      "text/latex": [
       "4"
      ],
      "text/markdown": [
       "4"
      ],
      "text/plain": [
       "[1] 4"
      ]
     },
     "execution_count": 28,
     "metadata": {},
     "output_type": "execute_result"
    }
   ],
   "source": [
    "## Missing values\n",
    "val <- c(1,3,5,NA,3,6)\n",
    "val\n",
    "is.na(val)\n",
    "which(is.na(val))"
   ]
  },
  {
   "cell_type": "markdown",
   "metadata": {},
   "source": [
    "### Slide 46\n",
    "#### Solution to Exercise III"
   ]
  },
  {
   "cell_type": "code",
   "execution_count": 29,
   "metadata": {
    "collapsed": true
   },
   "outputs": [
    {
     "data": {
      "text/html": [
       "18"
      ],
      "text/latex": [
       "18"
      ],
      "text/markdown": [
       "18"
      ],
      "text/plain": [
       "[1] 18"
      ]
     },
     "execution_count": 29,
     "metadata": {},
     "output_type": "execute_result"
    },
    {
     "data": {
      "text/plain": [
       "[1] NA"
      ]
     },
     "execution_count": 29,
     "metadata": {},
     "output_type": "execute_result"
    },
    {
     "data": {
      "text/html": [
       "3.6"
      ],
      "text/latex": [
       "3.6"
      ],
      "text/markdown": [
       "3.6"
      ],
      "text/plain": [
       "[1] 3.6"
      ]
     },
     "execution_count": 29,
     "metadata": {},
     "output_type": "execute_result"
    }
   ],
   "source": [
    "val <- c(1,3,5,NA,3,6)\n",
    "sum(val, na.rm = TRUE)\n",
    "\n",
    "mean(val)\n",
    "mean(val, na.rm = TRUE)"
   ]
  },
  {
   "cell_type": "markdown",
   "metadata": {},
   "source": [
    "### Slide 48"
   ]
  },
  {
   "cell_type": "code",
   "execution_count": null,
   "metadata": {
    "collapsed": true
   },
   "outputs": [],
   "source": [
    "?save\n",
    "save(cars.as.list, file=\"my_cars_as_list.RData\")\n",
    "load(file=\"my_cars_as_list.RData\") #if the file is present in the working directory, if not indicate the path of the .RData file\n",
    "\n",
    "save(cars.as.list,numeric.vector,rbind.together, file=\"my_Objects_Rreview_May2014.RData\")\n",
    "load(file=\"my_Objects_Rreview_May2014.RData\") # This will load the 3 objects saved above \n",
    "\n",
    "## alternatively\n",
    "save(cars.as.list, file=\"my_cars_as_list.RData\")\n",
    "rm(cars.as.list) # To remove the cars.as.list object\n",
    "ls() # To list all the objects present in the current R session, checking that the cars.as.list is not present anymore\n",
    "load(file=\"my_cars_as_list.RData\")\n",
    "ls() # To list all the objects present in the current R session, checking that the cars.as.list is now present\n",
    "\n",
    "## To save all the objects in the R session\n",
    "save.image(file=\"Rreview_2014.RData\")\n",
    "## after closing your R session for example, load the data with:\n",
    "load(file=\"Rreview_2014.RData\") "
   ]
  },
  {
   "cell_type": "markdown",
   "metadata": {},
   "source": [
    "### Slide 49"
   ]
  },
  {
   "cell_type": "code",
   "execution_count": null,
   "metadata": {
    "collapsed": true
   },
   "outputs": [],
   "source": [
    "## Packages\n",
    "## install.packages(\"PackageName\")\n",
    "install.packages(\"heatmap.2\")\n",
    "chooseCRANmirror()"
   ]
  },
  {
   "cell_type": "markdown",
   "metadata": {},
   "source": [
    "### Slide 50"
   ]
  },
  {
   "cell_type": "code",
   "execution_count": null,
   "metadata": {
    "collapsed": true
   },
   "outputs": [],
   "source": [
    "source(\"http://bioconductor.org/biocLite.R\")\n",
    "## biocLite(\"PackageName\")\n",
    "biocLite(\"DESeq2\")\n",
    "library(\"DESeq2\")"
   ]
  },
  {
   "cell_type": "markdown",
   "metadata": {},
   "source": [
    "## Extra Slides/Code"
   ]
  },
  {
   "cell_type": "markdown",
   "metadata": {},
   "source": [
    "### Let's Try Plotting (IV) - Slide 54"
   ]
  },
  {
   "cell_type": "markdown",
   "metadata": {},
   "source": [
    "### Slide 55"
   ]
  },
  {
   "cell_type": "code",
   "execution_count": 30,
   "metadata": {
    "collapsed": true
   },
   "outputs": [
    {
     "data": {
      "image/png": "[encoded data removed]",
      "text/plain": [
       "Plot with title “A nice scatter plot”"
      ]
     },
     "metadata": {
      "image/svg+xml": {
       "isolated": true
      }
     },
     "output_type": "display_data"
    }
   ],
   "source": [
    "# Do a scatter plot with connected dots\n",
    "plot(x=cars$speed, y=cars$dist,\n",
    "\txlab = \"Speed\", ylab = \"Distance\",\n",
    "\tcex.lab = 1.5,\n",
    "\tmain = \"A nice scatter plot\",\n",
    "\tpch = 16,\n",
    "\tbty = \"n\",\n",
    "\tcol = \"dark blue\",\n",
    "\ttype = \"b\",\n",
    "\tlas = 1\n",
    "\t)"
   ]
  },
  {
   "cell_type": "markdown",
   "metadata": {},
   "source": [
    "### Slide 56"
   ]
  },
  {
   "cell_type": "code",
   "execution_count": 31,
   "metadata": {
    "collapsed": true
   },
   "outputs": [
    {
     "data": {
      "image/png": "[encoded data removed]",
      "text/plain": [
       "Plot with title “My boxplot”"
      ]
     },
     "metadata": {
      "image/svg+xml": {
       "isolated": true
      }
     },
     "output_type": "display_data"
    }
   ],
   "source": [
    "# Make your customized version of the boxplot\n",
    "boxplot(cars,\n",
    "\twidth = c(3,1),\n",
    "\tcol = \"red\",\n",
    "\tborder = \"dark blue\",\n",
    "\tnames = c(\"Speed\", \"Distance\"),\n",
    "\tmain = \"My boxplot\",\n",
    "\tnotch = TRUE,\n",
    "\thorizontal = TRUE\n",
    "\t)"
   ]
  },
  {
   "cell_type": "markdown",
   "metadata": {},
   "source": [
    "### Slide 57"
   ]
  },
  {
   "cell_type": "code",
   "execution_count": 32,
   "metadata": {
    "collapsed": true
   },
   "outputs": [
    {
     "data": {
      "image/png": "[encoded data removed]",
      "text/plain": [
       "Plot with title “My boxplot”"
      ]
     },
     "metadata": {
      "image/svg+xml": {
       "isolated": true
      }
     },
     "output_type": "display_data"
    }
   ],
   "source": [
    "# How can you change the 1.5*IQR parameter?\n",
    "boxplot(cars,\n",
    "\twidth = c(3,1),\n",
    "\tcol = \"red\",\n",
    "\tborder = \"dark blue\",\n",
    "\tnames = c(\"Speed\", \"Distance\"),\n",
    "\tmain = \"My boxplot\",\n",
    "\trange = 1, # this one here!\n",
    "\tnotch = TRUE,\n",
    "\thorizontal = TRUE\n",
    "\t)"
   ]
  },
  {
   "cell_type": "markdown",
   "metadata": {},
   "source": [
    "### Slide 58"
   ]
  },
  {
   "cell_type": "code",
   "execution_count": 33,
   "metadata": {
    "collapsed": true
   },
   "outputs": [
    {
     "data": {
      "image/png": "[encoded data removed]",
      "text/plain": [
       "Plot with title “My boxplot”"
      ]
     },
     "metadata": {
      "image/svg+xml": {
       "isolated": true
      }
     },
     "output_type": "display_data"
    }
   ],
   "source": [
    "## Print the scatter plot and the boxplot on top of each other and save the figure in a pdf file\n",
    "pdf(\"myfigure.pdf\", height=10, width=6)\n",
    "par(mfrow=c(2,1))\n",
    "plot(x=cars$speed, y=cars$dist,\n",
    "\txlab = \"Speed\", ylab = \"Distance\",\n",
    "\tcex.lab = 1.5,\n",
    "\tmain = \"A nice scatter plot\",\n",
    "\tpch = 16,\n",
    "\tbty = \"n\",\n",
    "\tcol = \"dark blue\",\n",
    "\ttype = \"b\",\n",
    "\tlas = 1\n",
    "\t)\n",
    "\n",
    "boxplot(cars,\n",
    "\twidth = c(3,1),\n",
    "\tcol = \"red\",\n",
    "\tborder = \"dark blue\",\n",
    "\tnames = c(\"Speed\", \"Distance\"),\n",
    "\tmain = \"My boxplot\",\n",
    "\tnotch = TRUE,\n",
    "\thorizontal = TRUE\n",
    "\t)\n",
    "dev.off()"
   ]
  },
  {
   "cell_type": "markdown",
   "metadata": {},
   "source": [
    "### Slide 59"
   ]
  },
  {
   "cell_type": "code",
   "execution_count": 34,
   "metadata": {
    "collapsed": true
   },
   "outputs": [
    {
     "name": "stdout",
     "output_type": "stream",
     "text": [
      "Positive value: 2 \n",
      "Negative value: -3 \n"
     ]
    }
   ],
   "source": [
    "x <- 2\n",
    "if (x>0) { \n",
    "  cat(\"Positive value:\",x,\"\\n\")\n",
    "} else if (x<0) {\n",
    "  cat(\"Negative value:\",x,\"\\n\")\n",
    "}\n",
    "\n",
    "x <- -3\n",
    "if (x>0) { \n",
    "  cat(\"Positive value:\",x,\"\\n\")\n",
    "} else if (x==0) {\n",
    "  cat(\"Zero:\",x,\"\\n\")\n",
    "} else {\n",
    "  cat(\"Negative value:\",x,\"\\n\")\n",
    "}"
   ]
  },
  {
   "cell_type": "markdown",
   "metadata": {},
   "source": [
    "### Slide 60"
   ]
  },
  {
   "cell_type": "code",
   "execution_count": 35,
   "metadata": {
    "collapsed": true
   },
   "outputs": [
    {
     "name": "stdout",
     "output_type": "stream",
     "text": [
      "12345[1] 2\n",
      "[1] 1\n",
      "[1] 3\n",
      "[1] 6\n",
      "[1] 5\n"
     ]
    }
   ],
   "source": [
    "for (i in 1:5) {\n",
    "  cat(i)\n",
    "}\n",
    "\n",
    "values <- c(2,1,3,6,5)\n",
    "for (value in values) {\n",
    "  ## cat(value)\n",
    "  print(value)\n",
    "} "
   ]
  },
  {
   "cell_type": "markdown",
   "metadata": {},
   "source": [
    "### Slide 61"
   ]
  },
  {
   "cell_type": "code",
   "execution_count": 36,
   "metadata": {
    "collapsed": true
   },
   "outputs": [
    {
     "name": "stdout",
     "output_type": "stream",
     "text": [
      "positive value: 4 \n",
      "positive value: 3 \n",
      "positive value: 2 \n",
      "positive value: 1 \n"
     ]
    }
   ],
   "source": [
    "x <- 4\n",
    "while (x>0) {\n",
    " cat(\"positive value:\",x,\"\\n\")\n",
    " x <- x-1\n",
    "}\n",
    "## Infinite loop!!!\n",
    "## x <- 4\n",
    "## while (x>0) {\n",
    "##  cat(\"positive value:\",x,\"\\n\")\n",
    "##  x <- x+1\n",
    "## } "
   ]
  },
  {
   "cell_type": "markdown",
   "metadata": {},
   "source": [
    "### Slide 62\n",
    "#### Solution to Exercise V"
   ]
  },
  {
   "cell_type": "markdown",
   "metadata": {},
   "source": [
    "### Slide 63"
   ]
  },
  {
   "cell_type": "code",
   "execution_count": 37,
   "metadata": {
    "collapsed": true
   },
   "outputs": [
    {
     "name": "stdout",
     "output_type": "stream",
     "text": [
      "[1] 1\n",
      "[1] 2\n",
      "[1] 3\n",
      "[1] 4\n",
      "[1] 5\n",
      "[1] 6\n",
      "[1] 7\n",
      "[1] 8\n",
      "[1] 9\n",
      "[1] 10\n",
      "[1] 2\n",
      "[1] 4\n",
      "[1] 6\n",
      "[1] 8\n",
      "[1] 10\n"
     ]
    }
   ],
   "source": [
    "# Print all numbers from 1 to 10\n",
    "sample <- 1:10 # create the sample to browse\n",
    "\n",
    "for (n in sample) {\n",
    "\tprint (n) # print each number in the sample\n",
    "\t}\n",
    "\n",
    "# Print all even numbers from 1 to 10\n",
    "sample <- 1:10 # create the sample to browse\n",
    "\n",
    "for (n in sample) {\n",
    "\tif (n %% 2 == 0) { # test the rest of the division by 2 (see if even)\n",
    "\t\tprint (n)\n",
    "\t\t} # no need for a else here (and it is not required)\n",
    "\t}"
   ]
  },
  {
   "cell_type": "markdown",
   "metadata": {},
   "source": [
    "### Slide 64"
   ]
  },
  {
   "cell_type": "code",
   "execution_count": 38,
   "metadata": {
    "collapsed": true
   },
   "outputs": [
    {
     "name": "stdout",
     "output_type": "stream",
     "text": [
      "Car # 1 speed: 4 \n",
      "Car # 2 speed: 4 \n",
      "Car # 3 speed: 7 \n",
      "Car # 4 speed: 7 \n",
      "Car # 5 speed: 8 \n",
      "Car # 6 speed: 9 \n",
      "Car # 7 speed: 10 \n",
      "Car # 8 speed: 10 \n"
     ]
    }
   ],
   "source": [
    "# Print the speed of the first 8 cars using while\n",
    "# we initialize the index to track how many cars were printed\n",
    "# 1 to start at the first car\n",
    "index <- 1\t\t\t\t\t\t\t\t\n",
    "\n",
    "# we continue until the index is 8\n",
    "while (index <= 8) {\t\t\t\t\t\t\t\t\n",
    "\t# we access to the speed of the car\n",
    "\tspeed <- cars[index, \"speed\"]\n",
    "\t\n",
    "\t# we print with \\n to go to the next line\n",
    "\tcat(\"Car #\", index, \"speed:\", speed, \"\\n\")\n",
    "\t\n",
    "\t# every iteration we go to the next car\n",
    "\tindex <- index + 1\n",
    "\t}"
   ]
  },
  {
   "cell_type": "markdown",
   "metadata": {},
   "source": [
    "### Slide 65"
   ]
  },
  {
   "cell_type": "code",
   "execution_count": 39,
   "metadata": {
    "collapsed": true
   },
   "outputs": [
    {
     "name": "stdout",
     "output_type": "stream",
     "text": [
      "Car # 7 speed: 10 \n",
      "Car # 8 speed: 10 \n",
      "Car # 9 speed: 10 \n",
      "Car # 10 speed: 11 \n",
      "Car # 11 speed: 11 \n",
      "Car # 12 speed: 12 \n",
      "Car # 13 speed: 12 \n",
      "Car # 14 speed: 12 \n"
     ]
    }
   ],
   "source": [
    "# Print the first 8 cars that have a speed more than 9\n",
    "# we initialize the variables so that they can be used in the loop\n",
    "counter <- 0 # 0 on the counter to add up\n",
    "# each time we find an appropriate car, 1 on the index to start at the first car\n",
    "index   <- 1\n",
    "\n",
    "while (counter < 8) {\n",
    "\t# to access the speed of the car\n",
    "\tspeed <- cars[index, \"speed\"]\n",
    "\t# if it is more than 9\n",
    "\tif (speed > 9) {\n",
    "\t\t# we print the car found, with \\n to go to the next line \n",
    "\t\tcat(\"Car #\", index, \"speed:\", speed, \"\\n\")\n",
    "\t\t# and track that we have printed one more car\n",
    "\t\tcounter <- counter + 1\n",
    "\t\t}\n",
    "\t# every time we go to the next car\n",
    "\tindex <- index + 1\n",
    "\t}"
   ]
  },
  {
   "cell_type": "markdown",
   "metadata": {},
   "source": [
    "### Slide 66"
   ]
  },
  {
   "cell_type": "code",
   "execution_count": 40,
   "metadata": {
    "collapsed": true
   },
   "outputs": [
    {
     "name": "stdout",
     "output_type": "stream",
     "text": [
      "41 cars, mean distance 48.95122 \n"
     ]
    }
   ],
   "source": [
    "# How many cars have a speed greater than 10?\n",
    "# What is their mean distance?\n",
    "# we put 0 to add up the values we have while browsing the cars\n",
    "count    <- 0\n",
    "distance <- 0\n",
    "\n",
    "# we browse all cars by their index\n",
    "for (i in 1:nrow(cars)) {\n",
    "\t# test if the speed of the car exceeds 10\n",
    "\tif (cars[i, \"speed\"] > 10) {\n",
    "\t\t# here we add it to the group of cars considered\n",
    "\t\tcount    <- count + 1\n",
    "\t\t# we add its distance to compute the mean afterwards\n",
    "\t\tdistance <- distance + cars[i, \"dist\"]\n",
    "\t\t}\n",
    "\t}\n",
    "\n",
    "# we compute the distance in the end with the global sum of all distances\n",
    "# and the number of cars used to get that global sum\n",
    "distanceMean <- distance / count\n",
    "\n",
    "# print the results, \\n is used to go to the next line\n",
    "cat(count, \"cars, mean distance\", distanceMean, \"\\n\")"
   ]
  },
  {
   "cell_type": "markdown",
   "metadata": {},
   "source": [
    "### Slide 67"
   ]
  },
  {
   "cell_type": "code",
   "execution_count": 41,
   "metadata": {
    "collapsed": true
   },
   "outputs": [
    {
     "data": {
      "text/html": [
       "<ol class=list-inline>\n",
       "\t<li>1</li>\n",
       "\t<li>22</li>\n",
       "\t<li>3</li>\n",
       "\t<li>4</li>\n",
       "\t<li>5</li>\n",
       "</ol>\n"
      ],
      "text/latex": [
       "\\begin{enumerate*}\n",
       "\\item 1\n",
       "\\item 22\n",
       "\\item 3\n",
       "\\item 4\n",
       "\\item 5\n",
       "\\end{enumerate*}\n"
      ],
      "text/markdown": [
       "1. 1\n",
       "2. 22\n",
       "3. 3\n",
       "4. 4\n",
       "5. 5\n",
       "\n",
       "\n"
      ],
      "text/plain": [
       "[1]  1 22  3  4  5"
      ]
     },
     "execution_count": 41,
     "metadata": {},
     "output_type": "execute_result"
    },
    {
     "data": {
      "text/html": [
       "1225"
      ],
      "text/latex": [
       "1225"
      ],
      "text/markdown": [
       "1225"
      ],
      "text/plain": [
       "[1] 1225"
      ]
     },
     "execution_count": 41,
     "metadata": {},
     "output_type": "execute_result"
    },
    {
     "data": {
      "text/html": [
       "<ol class=list-inline>\n",
       "\t<li>1</li>\n",
       "\t<li>22</li>\n",
       "\t<li>3</li>\n",
       "\t<li>4</li>\n",
       "\t<li>5</li>\n",
       "</ol>\n"
      ],
      "text/latex": [
       "\\begin{enumerate*}\n",
       "\\item 1\n",
       "\\item 22\n",
       "\\item 3\n",
       "\\item 4\n",
       "\\item 5\n",
       "\\end{enumerate*}\n"
      ],
      "text/markdown": [
       "1. 1\n",
       "2. 22\n",
       "3. 3\n",
       "4. 4\n",
       "5. 5\n",
       "\n",
       "\n"
      ],
      "text/plain": [
       "[1]  1 22  3  4  5"
      ]
     },
     "execution_count": 41,
     "metadata": {},
     "output_type": "execute_result"
    },
    {
     "data": {
      "text/html": [
       "1225"
      ],
      "text/latex": [
       "1225"
      ],
      "text/markdown": [
       "1225"
      ],
      "text/plain": [
       "[1] 1225"
      ]
     },
     "execution_count": 41,
     "metadata": {},
     "output_type": "execute_result"
    },
    {
     "data": {
      "text/html": [
       "2758547353515625"
      ],
      "text/latex": [
       "2758547353515625"
      ],
      "text/markdown": [
       "2758547353515625"
      ],
      "text/plain": [
       "[1] 2.758547e+15"
      ]
     },
     "execution_count": 41,
     "metadata": {},
     "output_type": "execute_result"
    }
   ],
   "source": [
    "function.example <- function(vector.of.values){\n",
    "  sum.exponent.value <- sum(vector.of.values)^2\n",
    "  return(sum.exponent.value)\n",
    "}\n",
    "\n",
    "dataset.a\n",
    "function.example(dataset.a)\n",
    "\n",
    "### SLIDE 68 ######################################################################################\n",
    "function.example <- function(vector.of.values, exponent.value = 2){\n",
    "  sum.exponent.value <- sum(vector.of.values)^exponent.value\n",
    "  return(sum.exponent.value)\n",
    "}\n",
    "dataset.a\n",
    "function.example(dataset.a)\n",
    "function.example(dataset.a, exponent.value = 10)"
   ]
  },
  {
   "cell_type": "markdown",
   "metadata": {},
   "source": [
    "### Slide 69\n",
    "#### Solution to Exercise VI"
   ]
  },
  {
   "cell_type": "markdown",
   "metadata": {},
   "source": [
    "### Slide 70"
   ]
  },
  {
   "cell_type": "code",
   "execution_count": 42,
   "metadata": {
    "collapsed": true
   },
   "outputs": [
    {
     "data": {
      "text/html": [
       "<ol class=list-inline>\n",
       "\t<li>1</li>\n",
       "\t<li>22</li>\n",
       "\t<li>3</li>\n",
       "\t<li>4</li>\n",
       "\t<li>5</li>\n",
       "</ol>\n"
      ],
      "text/latex": [
       "\\begin{enumerate*}\n",
       "\\item 1\n",
       "\\item 22\n",
       "\\item 3\n",
       "\\item 4\n",
       "\\item 5\n",
       "\\end{enumerate*}\n"
      ],
      "text/markdown": [
       "1. 1\n",
       "2. 22\n",
       "3. 3\n",
       "4. 4\n",
       "5. 5\n",
       "\n",
       "\n"
      ],
      "text/plain": [
       "[1]  1 22  3  4  5"
      ]
     },
     "execution_count": 42,
     "metadata": {},
     "output_type": "execute_result"
    },
    {
     "data": {
      "text/html": [
       "7"
      ],
      "text/latex": [
       "7"
      ],
      "text/markdown": [
       "7"
      ],
      "text/plain": [
       "[1] 7"
      ]
     },
     "execution_count": 42,
     "metadata": {},
     "output_type": "execute_result"
    }
   ],
   "source": [
    "# Create a function that takes in a vector and returns its mean.\n",
    "calculate.mean <- function(x){\n",
    "\tto.return <- mean(x)\n",
    "\treturn(to.return)\n",
    "\t}\n",
    "\n",
    "dataset.a <- c(1, 22, 3, 4, 5)\n",
    "dataset.a\n",
    "\n",
    "calculate.mean(dataset.a)"
   ]
  },
  {
   "cell_type": "markdown",
   "metadata": {},
   "source": [
    "### Slide 71"
   ]
  },
  {
   "cell_type": "code",
   "execution_count": 43,
   "metadata": {
    "collapsed": true
   },
   "outputs": [
    {
     "data": {
      "text/html": [
       "<dl>\n",
       "\t<dt>$mean</dt>\n",
       "\t\t<dd>7</dd>\n",
       "\t<dt>$median</dt>\n",
       "\t\t<dd>4</dd>\n",
       "\t<dt>$var</dt>\n",
       "\t\t<dd>72.5</dd>\n",
       "</dl>\n"
      ],
      "text/latex": [
       "\\begin{description}\n",
       "\\item[\\$mean] 7\n",
       "\\item[\\$median] 4\n",
       "\\item[\\$var] 72.5\n",
       "\\end{description}\n"
      ],
      "text/markdown": [
       "$mean\n",
       ":   7\n",
       "$median\n",
       ":   4\n",
       "$var\n",
       ":   72.5\n",
       "\n",
       "\n"
      ],
      "text/plain": [
       "$mean\n",
       "[1] 7\n",
       "\n",
       "$median\n",
       "[1] 4\n",
       "\n",
       "$var\n",
       "[1] 72.5\n"
      ]
     },
     "execution_count": 43,
     "metadata": {},
     "output_type": "execute_result"
    }
   ],
   "source": [
    "# Create a function that takes in a numeric vector and minimum cutoff value. Return the mean,\n",
    "# median and variance for the numbers in the vector that are greater than the minimum cutoff. Use\n",
    "# all positive values if the user does not input a minimum cutoff value.\n",
    "summary.selection <- function(vector.of.values, cutoff.value = 0){\n",
    "\t# select values greater than the cut-off value\n",
    "\tselected     <- vector.of.values[vector.of.values > cutoff.value]\n",
    "\t\n",
    "\t# compute the mean, median, and variance of the selected values\n",
    "\tmean.value   <- mean(selected)\n",
    "\tmedian.value <- median(selected)\n",
    "\tvar.value    <- var(selected)\n",
    "\t\n",
    "\t# return the mean, median, and variance\n",
    "\tto.return    <- list( mean = mean.value, median = median.value, var = var.value)\n",
    "\treturn(to.return)\n",
    "\t}\n",
    "\n",
    "summary.selection(dataset.a)"
   ]
  },
  {
   "cell_type": "code",
   "execution_count": null,
   "metadata": {
    "collapsed": true
   },
   "outputs": [],
   "source": []
  }
 ],
 "metadata": {
  "kernelspec": {
   "display_name": "R",
   "language": "R",
   "name": "ir"
  },
  "language_info": {
   "codemirror_mode": "r",
   "file_extension": ".r",
   "mimetype": "text/x-r-source",
   "name": "R",
   "pygments_lexer": "r",
   "version": "3.2.2"
  }
 },
 "nbformat": 4,
 "nbformat_minor": 0
}
